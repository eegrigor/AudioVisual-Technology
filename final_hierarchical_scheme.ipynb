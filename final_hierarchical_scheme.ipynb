{
  "nbformat": 4,
  "nbformat_minor": 0,
  "metadata": {
    "colab": {
      "provenance": []
    },
    "kernelspec": {
      "name": "python3",
      "display_name": "Python 3"
    },
    "language_info": {
      "name": "python"
    },
    "accelerator": "GPU",
    "gpuClass": "standard"
  },
  "cells": [
    {
      "cell_type": "code",
      "source": [
        "import pandas as pd\n",
        "import numpy as np\n",
        "from sklearn.model_selection import train_test_split\n",
        "from keras.layers import Dense, Conv2D, MaxPooling2D, Flatten, AveragePooling2D, Dropout\n",
        "from keras.models import Sequential\n",
        "from keras.optimizers import Adam\n",
        "from tensorflow.keras.layers import BatchNormalization\n",
        "from keras.callbacks import EarlyStopping, TensorBoard, ModelCheckpoint\n",
        "import librosa\n",
        "import matplotlib.pyplot as plt\n",
        "from IPython.display import Audio, display\n",
        "import os\n",
        "import cv2 as cv\n",
        "import scipy as sp\n",
        "import tensorflow as tf\n",
        "import pickle\n",
        "from tensorflow import keras"
      ],
      "metadata": {
        "id": "82HmESbhg68y"
      },
      "execution_count": null,
      "outputs": []
    },
    {
      "cell_type": "code",
      "execution_count": null,
      "metadata": {
        "id": "3xk_zKgZaocn"
      },
      "outputs": [],
      "source": [
        "group_classifier = keras.models.load_model(\"/content/drive/MyDrive/audio/models/level1.h5\")\n",
        "group1_classifier = keras.models.load_model(\"/content/drive/MyDrive/audio/models/de_fr_en_nl.h5\")\n",
        "group2_classifier = keras.models.load_model(\"/content/drive/MyDrive/audio/models/gr_es.h5\")\n",
        "group3_classifier = keras.models.load_model(\"/content/drive/MyDrive/audio/models/nv_sv.h5\")\n",
        "groups = [group1_classifier, group2_classifier, group3_classifier]"
      ]
    },
    {
      "cell_type": "code",
      "source": [
        "\n",
        "#other,de,en,fr,nl\n",
        "#other,el,es\n",
        "#other,no,sv\n",
        "with open('/content/drive/MyDrive/audio/augmented/de_augmented_npy', 'rb') as file:\n",
        "    X = np.array(pickle.load(file)[:50])\n",
        "    y = np.zeros(X.shape[0])\n",
        "    size = X.shape[0]\n",
        "with open('/content/drive/MyDrive/audio/augmented/fr_augmented_npy', 'rb') as file:\n",
        "    X = np.append(X, pickle.load(file)[:50], axis=0)\n",
        "    y = np.append(y, np.full(size, 2))\n",
        "\n",
        "with open('/content/drive/MyDrive/audio/augmented/en_augmented_npy', 'rb') as file:\n",
        "    X = np.append(X, pickle.load(file)[:50], axis=0)\n",
        "    y = np.append(y, np.full(size, 1))\n",
        "\n",
        "with open('/content/drive/MyDrive/audio/augmented/nl_augmented_npy', 'rb') as file:\n",
        "    X = np.append(X, pickle.load(file)[:50], axis=0)\n",
        "    y = np.append(y, np.full(size, 3))\n",
        "\n",
        "with open('/content/drive/MyDrive/audio/augmented/el_augmented_npy', 'rb') as file:\n",
        "    X = np.append(X, pickle.load(file)[:50], axis=0)\n",
        "    y = np.append(y, np.full(size, 4))\n",
        "\n",
        "with open('/content/drive/MyDrive/audio/augmented/es_augmented_npy', 'rb') as file:\n",
        "    X = np.append(X, pickle.load(file)[:50], axis=0)\n",
        "    y = np.append(y, np.full(size, 5))\n",
        "\n",
        "\n",
        "with open('/content/drive/MyDrive/audio/augmented/no_augmented_npy', 'rb') as file:\n",
        "    X = np.append(X, pickle.load(file)[:50], axis=0)\n",
        "    y = np.append(y, np.full(size, 6))\n",
        "\n",
        "with open('/content/drive/MyDrive/audio/augmented/sv_augmented_npy', 'rb') as file:\n",
        "    X = np.append(X, pickle.load(file)[:50], axis=0)\n",
        "    y = np.append(y, np.full(size, 7))\n",
        "\n",
        "X = np.transpose(X,(0,3,1,2))\n",
        "\n",
        "y = np.array(y)\n",
        "print(X.shape)\n",
        "print(y.shape)"
      ],
      "metadata": {
        "colab": {
          "base_uri": "https://localhost:8080/"
        },
        "id": "nldn9BOIa6h1",
        "outputId": "aef0847d-682d-4747-f420-f8eb018237d6"
      },
      "execution_count": null,
      "outputs": [
        {
          "output_type": "stream",
          "name": "stdout",
          "text": [
            "(400, 5, 998, 40)\n",
            "(400,)\n"
          ]
        }
      ]
    },
    {
      "cell_type": "code",
      "source": [
        "X = np.pad(X, [(0, ), (0, ), (1, ), (0, )], mode='constant')\n",
        "print(X.shape)\n"
      ],
      "metadata": {
        "colab": {
          "base_uri": "https://localhost:8080/"
        },
        "id": "9YO5kHy4VhQU",
        "outputId": "33de1e45-ce96-49e2-8c89-7d86183a3f7c"
      },
      "execution_count": null,
      "outputs": [
        {
          "output_type": "stream",
          "name": "stdout",
          "text": [
            "(400, 5, 1000, 40)\n"
          ]
        }
      ]
    },
    {
      "cell_type": "code",
      "source": [
        "from sklearn.metrics import accuracy_score\n",
        "predictions = []\n",
        "for i in range(X.shape[0]):\n",
        "  ini_data = X[i,0].reshape(1,1000,40,1)\n",
        "  level1_ini = np.argmax(group_classifier.predict(ini_data,verbose=0))\n",
        "  level2 = np.argmax(groups[level1_ini].predict(ini_data,verbose=0))\n",
        "\n",
        "  if(level2 == 0):\n",
        "\n",
        "    level1 = np.argmax(group_classifier.predict(X[i,1:].reshape(4,1000,40,1), verbose=0), axis=1)\n",
        "    level1 = np.argmax(np.bincount(level1))\n",
        "\n",
        "    level2 = []\n",
        "    for j in range(1,5):\n",
        "      level2.append(np.argmax(groups[level1].predict(X[i,j].reshape(1,1000,40,1),verbose=0), axis=1))\n",
        "\n",
        "    level2 = np.array(level2).flatten()\n",
        "    counts = np.bincount(level2)\n",
        "\n",
        "\n",
        "    if(np.argmax(counts) == 0):\n",
        "      if(len(counts) != 1):\n",
        "        predictions.append(np.argmax(counts[1:]))\n",
        "      else:\n",
        "        predictions.append(10)\n",
        "      continue\n",
        "\n",
        "    if(level1_ini == 0):\n",
        "      predictions.append(np.argmax(counts)-1)\n",
        "    elif(level1_ini == 1):\n",
        "      predictions.append(np.argmax(counts)+3)\n",
        "    elif(level1_ini == 2):\n",
        "      predictions.append(np.argmax(counts)+5)\n",
        "  else:\n",
        "    if(level1_ini == 0):\n",
        "      predictions.append(level2-1) #de = 0, en = 1, fr = 2, nl = 3, level2[0]: de = 1, en = 2, fr = 3, nl = 4\n",
        "    elif(level1_ini == 1):\n",
        "      predictions.append(level2+3) #el = 4 , es = 5, level2[0]: el = 1 es = 2\n",
        "    elif(level1_ini == 2):\n",
        "      predictions.append(level2+5) #no = 6 , sv = 7, level2[0]: no = 1 sv = 2\n",
        "\n",
        "\n",
        "predictions = np.array(predictions)\n",
        "print(predictions.shape)"
      ],
      "metadata": {
        "colab": {
          "base_uri": "https://localhost:8080/"
        },
        "id": "otEk4qQScA6u",
        "outputId": "82e8c338-3868-4e4e-f955-2b4a1e111690"
      },
      "execution_count": null,
      "outputs": [
        {
          "output_type": "stream",
          "name": "stdout",
          "text": [
            "(400,)\n"
          ]
        }
      ]
    },
    {
      "cell_type": "code",
      "source": [
        "print(accuracy_score(y,predictions))"
      ],
      "metadata": {
        "colab": {
          "base_uri": "https://localhost:8080/"
        },
        "id": "Zm2Kc2a8qIEA",
        "outputId": "39a8323d-43ff-4a9c-fd5a-7d4d0f34a48c"
      },
      "execution_count": null,
      "outputs": [
        {
          "output_type": "stream",
          "name": "stdout",
          "text": [
            "0.61\n"
          ]
        }
      ]
    },
    {
      "cell_type": "code",
      "source": [
        "from sklearn.metrics import confusion_matrix\n",
        "import seaborn as sns\n",
        "\n",
        "test_confu_matrix = confusion_matrix(y, predictions)\n",
        "fault_type = ['de', 'en', 'fr', 'nl', 'el', 'es', 'no', 'sv']\n",
        "plt.figure(1,figsize=(18,8))\n",
        "sns.heatmap(test_confu_matrix, annot= True,fmt = \"d\",\n",
        "xticklabels=fault_type, yticklabels=fault_type, cmap = \"Blues\", cbar = False)\n",
        "plt.title('Test Confusion Matrix')\n",
        "plt.xlabel('Predicted')\n",
        "plt.ylabel('True')"
      ],
      "metadata": {
        "id": "E1kVsbqUiYIH",
        "colab": {
          "base_uri": "https://localhost:8080/",
          "height": 516
        },
        "outputId": "c2f2d613-769d-431f-90e7-43eec70c7390"
      },
      "execution_count": null,
      "outputs": [
        {
          "output_type": "execute_result",
          "data": {
            "text/plain": [
              "Text(141.0, 0.5, 'True')"
            ]
          },
          "metadata": {},
          "execution_count": 10
        },
        {
          "output_type": "display_data",
          "data": {
            "text/plain": [
              "<Figure size 1296x576 with 1 Axes>"
            ],
            "image/png": "[encoded data removed]"
          },
          "metadata": {
            "needs_background": "light"
          }
        }
      ]
    }
  ]
}