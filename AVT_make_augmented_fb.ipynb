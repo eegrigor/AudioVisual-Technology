{
  "cells": [
    {
      "cell_type": "code",
      "execution_count": null,
      "metadata": {
        "id": "PUMlC9YftroK"
      },
      "outputs": [],
      "source": [
        "import pandas as pd\n",
        "import numpy as np\n",
        "import librosa\n",
        "import matplotlib.pyplot as plt\n",
        "from IPython.display import Audio, display\n",
        "import os\n",
        "import cv2 as cv\n",
        "import scipy as sp\n",
        "import pickle"
      ]
    },
    {
      "cell_type": "code",
      "execution_count": null,
      "metadata": {
        "id": "tf35f_AuYAFz",
        "colab": {
          "base_uri": "https://localhost:8080/"
        },
        "outputId": "c0e2488b-f8da-4109-9d3f-2dcd282a2a58"
      },
      "outputs": [
        {
          "output_type": "stream",
          "name": "stdout",
          "text": [
            "Looking in indexes: https://pypi.org/simple, https://us-python.pkg.dev/colab-wheels/public/simple/\n",
            "Collecting audiomentations\n",
            "  Downloading audiomentations-0.28.0-py3-none-any.whl (66 kB)\n",
            "\u001b[2K     \u001b[90m━━━━━━━━━━━━━━━━━━━━━━━━━━━━━━━━━━━━━━━━\u001b[0m \u001b[32m66.0/66.0 KB\u001b[0m \u001b[31m5.2 MB/s\u001b[0m eta \u001b[36m0:00:00\u001b[0m\n",
            "\u001b[?25hRequirement already satisfied: numpy>=1.13.0 in /usr/local/lib/python3.8/dist-packages (from audiomentations) (1.22.4)\n",
            "Requirement already satisfied: librosa<0.10.0,>0.7.2 in /usr/local/lib/python3.8/dist-packages (from audiomentations) (0.8.1)\n",
            "Requirement already satisfied: scipy<2,>=1.0.0 in /usr/local/lib/python3.8/dist-packages (from audiomentations) (1.7.3)\n",
            "Requirement already satisfied: joblib>=0.14 in /usr/local/lib/python3.8/dist-packages (from librosa<0.10.0,>0.7.2->audiomentations) (1.2.0)\n",
            "Requirement already satisfied: resampy>=0.2.2 in /usr/local/lib/python3.8/dist-packages (from librosa<0.10.0,>0.7.2->audiomentations) (0.4.2)\n",
            "Requirement already satisfied: soundfile>=0.10.2 in /usr/local/lib/python3.8/dist-packages (from librosa<0.10.0,>0.7.2->audiomentations) (0.12.1)\n",
            "Requirement already satisfied: pooch>=1.0 in /usr/local/lib/python3.8/dist-packages (from librosa<0.10.0,>0.7.2->audiomentations) (1.6.0)\n",
            "Requirement already satisfied: audioread>=2.0.0 in /usr/local/lib/python3.8/dist-packages (from librosa<0.10.0,>0.7.2->audiomentations) (3.0.0)\n",
            "Requirement already satisfied: packaging>=20.0 in /usr/local/lib/python3.8/dist-packages (from librosa<0.10.0,>0.7.2->audiomentations) (23.0)\n",
            "Requirement already satisfied: decorator>=3.0.0 in /usr/local/lib/python3.8/dist-packages (from librosa<0.10.0,>0.7.2->audiomentations) (4.4.2)\n",
            "Requirement already satisfied: numba>=0.43.0 in /usr/local/lib/python3.8/dist-packages (from librosa<0.10.0,>0.7.2->audiomentations) (0.56.4)\n",
            "Requirement already satisfied: scikit-learn!=0.19.0,>=0.14.0 in /usr/local/lib/python3.8/dist-packages (from librosa<0.10.0,>0.7.2->audiomentations) (1.0.2)\n",
            "Requirement already satisfied: importlib-metadata in /usr/local/lib/python3.8/dist-packages (from numba>=0.43.0->librosa<0.10.0,>0.7.2->audiomentations) (6.0.0)\n",
            "Requirement already satisfied: llvmlite<0.40,>=0.39.0dev0 in /usr/local/lib/python3.8/dist-packages (from numba>=0.43.0->librosa<0.10.0,>0.7.2->audiomentations) (0.39.1)\n",
            "Requirement already satisfied: setuptools in /usr/local/lib/python3.8/dist-packages (from numba>=0.43.0->librosa<0.10.0,>0.7.2->audiomentations) (57.4.0)\n",
            "Requirement already satisfied: requests>=2.19.0 in /usr/local/lib/python3.8/dist-packages (from pooch>=1.0->librosa<0.10.0,>0.7.2->audiomentations) (2.25.1)\n",
            "Requirement already satisfied: appdirs>=1.3.0 in /usr/local/lib/python3.8/dist-packages (from pooch>=1.0->librosa<0.10.0,>0.7.2->audiomentations) (1.4.4)\n",
            "Requirement already satisfied: threadpoolctl>=2.0.0 in /usr/local/lib/python3.8/dist-packages (from scikit-learn!=0.19.0,>=0.14.0->librosa<0.10.0,>0.7.2->audiomentations) (3.1.0)\n",
            "Requirement already satisfied: cffi>=1.0 in /usr/local/lib/python3.8/dist-packages (from soundfile>=0.10.2->librosa<0.10.0,>0.7.2->audiomentations) (1.15.1)\n",
            "Requirement already satisfied: pycparser in /usr/local/lib/python3.8/dist-packages (from cffi>=1.0->soundfile>=0.10.2->librosa<0.10.0,>0.7.2->audiomentations) (2.21)\n",
            "Requirement already satisfied: urllib3<1.27,>=1.21.1 in /usr/local/lib/python3.8/dist-packages (from requests>=2.19.0->pooch>=1.0->librosa<0.10.0,>0.7.2->audiomentations) (1.24.3)\n",
            "Requirement already satisfied: certifi>=2017.4.17 in /usr/local/lib/python3.8/dist-packages (from requests>=2.19.0->pooch>=1.0->librosa<0.10.0,>0.7.2->audiomentations) (2022.12.7)\n",
            "Requirement already satisfied: idna<3,>=2.5 in /usr/local/lib/python3.8/dist-packages (from requests>=2.19.0->pooch>=1.0->librosa<0.10.0,>0.7.2->audiomentations) (2.10)\n",
            "Requirement already satisfied: chardet<5,>=3.0.2 in /usr/local/lib/python3.8/dist-packages (from requests>=2.19.0->pooch>=1.0->librosa<0.10.0,>0.7.2->audiomentations) (4.0.0)\n",
            "Requirement already satisfied: zipp>=0.5 in /usr/local/lib/python3.8/dist-packages (from importlib-metadata->numba>=0.43.0->librosa<0.10.0,>0.7.2->audiomentations) (3.13.0)\n",
            "Installing collected packages: audiomentations\n",
            "Successfully installed audiomentations-0.28.0\n"
          ]
        }
      ],
      "source": [
        "!pip install audiomentations"
      ]
    },
    {
      "cell_type": "code",
      "execution_count": null,
      "metadata": {
        "id": "f3hjuO3_ZCVU",
        "colab": {
          "base_uri": "https://localhost:8080/"
        },
        "outputId": "849ab8d3-b057-4694-b55b-231d0c4f6e30"
      },
      "outputs": [
        {
          "output_type": "stream",
          "name": "stdout",
          "text": [
            "Mounted at /content/gdrive\n"
          ]
        }
      ],
      "source": [
        "from google.colab import drive\n",
        "drive.mount('/content/gdrive', force_remount=True)"
      ]
    },
    {
      "cell_type": "code",
      "execution_count": null,
      "metadata": {
        "id": "lq7dVn-AYRdd"
      },
      "outputs": [],
      "source": [
        "from audiomentations import Compose, AddGaussianNoise, TimeStretch, PitchShift, Shift\n",
        "\n",
        "def augment_input(audio_path,  num_samples=4, return_fb=True):\n",
        "\n",
        "    augment = Compose([\n",
        "        TimeStretch(min_rate=0.8, max_rate=1.2, p=0.7),\n",
        "        PitchShift(min_semitones=-4, max_semitones=4, p=0.5),\n",
        "        Shift(min_fraction=0.5, max_fraction=0.5, p=0.5, fade = True),\n",
        "    ])\n",
        "\n",
        "    audio, fs = librosa.load(audio_path, sr=None)\n",
        "    audios_out = num_samples*[None]\n",
        "\n",
        "    for i in range(num_samples):\n",
        "        audios_out[i] = augment(samples=audio, sample_rate=fs)\n",
        "\n",
        "    if not return_fb:\n",
        "        return audios_out\n",
        "\n",
        "    if return_fb:\n",
        "        fb_out = (num_samples+1)*[None]\n",
        "        fb_out[0] = generate_fb_and_mfcc(audio, fs)\n",
        "        for i in range(num_samples):\n",
        "            fb_out[i+1] = generate_fb_and_mfcc(audios_out[i], fs)\n",
        "        return np.dstack(fb_out)"
      ]
    },
    {
      "cell_type": "code",
      "execution_count": null,
      "metadata": {
        "id": "GJiQKZw1t0Na"
      },
      "outputs": [],
      "source": [
        "def generate_fb_and_mfcc(signal, sample_rate):\n",
        "\n",
        "    # Pre-Emphasis\n",
        "    pre_emphasis = 0.97\n",
        "    emphasized_signal = np.append(\n",
        "        signal[0],\n",
        "        signal[1:] - pre_emphasis * signal[:-1])\n",
        "\n",
        "    # Framing\n",
        "    frame_size = 0.025\n",
        "    frame_stride = 0.01\n",
        "\n",
        "    # Convert from seconds to samples\n",
        "    frame_length, frame_step = (\n",
        "        frame_size * sample_rate,\n",
        "        frame_stride * sample_rate)\n",
        "    signal_length = len(emphasized_signal)\n",
        "    frame_length = int(round(frame_length))\n",
        "    frame_step = int(round(frame_step))\n",
        "\n",
        "    # Make sure that we have at least 1 frame\n",
        "    num_frames = int(\n",
        "        np.ceil(float(np.abs(signal_length - frame_length)) / frame_step))\n",
        "\n",
        "    pad_signal_length = num_frames * frame_step + frame_length\n",
        "    z = np.zeros((pad_signal_length - signal_length))\n",
        "\n",
        "    # Pad Signal to make sure that all frames have equal\n",
        "    # number of samples without truncating any samples\n",
        "    # from the original signal\n",
        "    pad_signal = np.append(emphasized_signal, z)\n",
        "\n",
        "    indices = (\n",
        "        np.tile(np.arange(0, frame_length), (num_frames, 1)) +\n",
        "        np.tile(\n",
        "            np.arange(0, num_frames * frame_step, frame_step),\n",
        "            (frame_length, 1)\n",
        "        ).T\n",
        "    )\n",
        "    frames = pad_signal[indices.astype(np.int32, copy=False)]\n",
        "\n",
        "    # Window\n",
        "    frames *= np.hamming(frame_length)\n",
        "\n",
        "    # Fourier-Transform and Power Spectrum\n",
        "    NFFT = 512\n",
        "\n",
        "    # Magnitude of the FFT\n",
        "    mag_frames = np.absolute(np.fft.rfft(frames, NFFT))\n",
        "\n",
        "    # Power Spectrum\n",
        "    pow_frames = ((1.0 / NFFT) * ((mag_frames) ** 2))\n",
        "\n",
        "    # Filter Banks\n",
        "    nfilt = 40\n",
        "\n",
        "    low_freq_mel = 0\n",
        "\n",
        "    # Convert Hz to Mel\n",
        "    high_freq_mel = (2595 * np.log10(1 + (sample_rate / 2) / 700))\n",
        "\n",
        "    # Equally spaced in Mel scale\n",
        "    mel_points = np.linspace(low_freq_mel, high_freq_mel, nfilt + 2)\n",
        "\n",
        "    # Convert Mel to Hz\n",
        "    hz_points = (700 * (10**(mel_points / 2595) - 1))\n",
        "    bin = np.floor((NFFT + 1) * hz_points / sample_rate)\n",
        "\n",
        "    fbank = np.zeros((nfilt, int(np.floor(NFFT / 2 + 1))))\n",
        "    for m in range(1, nfilt + 1):\n",
        "        f_m_minus = int(bin[m - 1])   # left\n",
        "        f_m = int(bin[m])             # center\n",
        "        f_m_plus = int(bin[m + 1])    # right\n",
        "\n",
        "        for k in range(f_m_minus, f_m):\n",
        "            fbank[m - 1, k] = (k - bin[m - 1]) / (bin[m] - bin[m - 1])\n",
        "        for k in range(f_m, f_m_plus):\n",
        "            fbank[m - 1, k] = (bin[m + 1] - k) / (bin[m + 1] - bin[m])\n",
        "    filter_banks = np.dot(pow_frames, fbank.T)\n",
        "\n",
        "    # Numerical Stability\n",
        "    filter_banks = np.where(\n",
        "        filter_banks == 0,\n",
        "        np.finfo(float).eps,\n",
        "        filter_banks)\n",
        "\n",
        "    # dB\n",
        "    filter_banks = 20 * np.log10(filter_banks)\n",
        "    return filter_banks"
      ]
    },
    {
      "cell_type": "code",
      "execution_count": null,
      "metadata": {
        "id": "4WG_nG0Sw6Im"
      },
      "outputs": [],
      "source": [
        "listdir = os.listdir('gdrive/MyDrive/audio_clean_v2/de_trim')\n",
        "counter = 1000\n",
        "fmin = 0\n",
        "fmax = 4000\n",
        "X = []\n",
        "y = []\n",
        "\n",
        "for i, audio in enumerate(listdir):\n",
        "  fb_augmented = augment_input(os.path.join('gdrive/MyDrive/audio_clean_v2/de_trim', audio), num_samples=4, return_fb=True)\n",
        "  X.append(fb_augmented)\n",
        "  if(i == counter - 1):\n",
        "    break\n",
        "\n",
        "filename = 'gdrive/MyDrive/audio_clean_v2/de_augmented_npy'\n",
        "fileObject = open(filename, 'wb')\n",
        "\n",
        "\n",
        "pickle.dump(X, fileObject)\n",
        "fileObject.close()\n"
      ]
    },
    {
      "cell_type": "code",
      "execution_count": null,
      "metadata": {
        "id": "hd0cySAWlNd5"
      },
      "outputs": [],
      "source": []
    }
  ],
  "metadata": {
    "accelerator": "GPU",
    "colab": {
      "provenance": []
    },
    "gpuClass": "standard",
    "kernelspec": {
      "display_name": "Python 3",
      "name": "python3"
    },
    "language_info": {
      "name": "python"
    }
  },
  "nbformat": 4,
  "nbformat_minor": 0
}