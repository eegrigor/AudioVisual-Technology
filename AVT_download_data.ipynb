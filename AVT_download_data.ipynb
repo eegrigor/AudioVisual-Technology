{
  "nbformat": 4,
  "nbformat_minor": 0,
  "metadata": {
    "colab": {
      "provenance": []
    },
    "kernelspec": {
      "name": "python3",
      "display_name": "Python 3"
    },
    "language_info": {
      "name": "python"
    }
  },
  "cells": [
    {
      "cell_type": "markdown",
      "source": [
        "#Download data from colab for better speed"
      ],
      "metadata": {
        "id": "0SzPeTuCZFR-"
      }
    },
    {
      "cell_type": "code",
      "source": [
        "!pip install webdataset"
      ],
      "metadata": {
        "id": "-i_e9Swpmq6P",
        "colab": {
          "base_uri": "https://localhost:8080/"
        },
        "outputId": "c0e9e432-a0d1-4e84-a9fa-0bf4c3f78948"
      },
      "execution_count": null,
      "outputs": [
        {
          "output_type": "stream",
          "name": "stdout",
          "text": [
            "Looking in indexes: https://pypi.org/simple, https://us-python.pkg.dev/colab-wheels/public/simple/\n",
            "Collecting webdataset\n",
            "  Downloading webdataset-0.2.31-py3-none-any.whl (50 kB)\n",
            "\u001b[K     |████████████████████████████████| 50 kB 2.1 MB/s \n",
            "\u001b[?25hRequirement already satisfied: numpy in /usr/local/lib/python3.8/dist-packages (from webdataset) (1.21.6)\n",
            "Requirement already satisfied: pyyaml in /usr/local/lib/python3.8/dist-packages (from webdataset) (6.0)\n",
            "Collecting braceexpand\n",
            "  Downloading braceexpand-0.1.7-py2.py3-none-any.whl (5.9 kB)\n",
            "Installing collected packages: braceexpand, webdataset\n",
            "Successfully installed braceexpand-0.1.7 webdataset-0.2.31\n"
          ]
        }
      ]
    },
    {
      "cell_type": "code",
      "source": [
        "# Edit the zip_urls to get desired languages\n",
        "# !wget http://bark.phon.ioc.ee/voxlingua107/zip_urls.txt\n"
      ],
      "metadata": {
        "id": "6LU7PcTRnyvD"
      },
      "execution_count": null,
      "outputs": []
    },
    {
      "cell_type": "markdown",
      "source": [
        "Make sure to delete txt rows that you dont want to download.\n"
      ],
      "metadata": {
        "id": "Sx-bcUqGrYQg"
      }
    },
    {
      "cell_type": "code",
      "source": [
        "!cat zip_urls.txt | xargs  wget --continue"
      ],
      "metadata": {
        "id": "wreGU4Xtn-Qq"
      },
      "execution_count": null,
      "outputs": []
    },
    {
      "cell_type": "code",
      "source": [
        "from google.colab import drive\n",
        "drive.mount('/content/gdrive')"
      ],
      "metadata": {
        "id": "q9bEXIKhz1C7"
      },
      "execution_count": null,
      "outputs": []
    },
    {
      "cell_type": "markdown",
      "source": [
        "# Copy languages to drive for later use"
      ],
      "metadata": {
        "id": "q5MYJEO4Y_iw"
      }
    },
    {
      "cell_type": "code",
      "source": [
        "!cp nl.zip /content/gdrive/MyDrive/audio\n",
        "!cp sv.zip /content/gdrive/MyDrive/audio\n",
        "!cp no.zip /content/gdrive/MyDrive/audio"
      ],
      "metadata": {
        "id": "hnBXDdNEz9v3"
      },
      "execution_count": null,
      "outputs": []
    }
  ]
}