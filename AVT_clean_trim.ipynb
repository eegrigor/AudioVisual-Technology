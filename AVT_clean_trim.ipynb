{
  "nbformat": 4,
  "nbformat_minor": 0,
  "metadata": {
    "colab": {
      "provenance": []
    },
    "kernelspec": {
      "name": "python3",
      "display_name": "Python 3"
    },
    "language_info": {
      "name": "python"
    }
  },
  "cells": [
    {
      "cell_type": "markdown",
      "source": [
        "# Clean up dataset and trim"
      ],
      "metadata": {
        "id": "PiyCUUWJ9XqD"
      }
    },
    {
      "cell_type": "code",
      "execution_count": null,
      "metadata": {
        "id": "Frz4qpHMZwnb",
        "colab": {
          "base_uri": "https://localhost:8080/"
        },
        "outputId": "d9b6063a-dfea-4d3e-e5b5-7d3da4f4e15c"
      },
      "outputs": [
        {
          "output_type": "stream",
          "name": "stdout",
          "text": [
            "Mounted at /content/gdrive\n"
          ]
        }
      ],
      "source": [
        "from google.colab import drive\n",
        "drive.mount('/content/gdrive', force_remount=True)"
      ]
    },
    {
      "cell_type": "code",
      "source": [
        "import zipfile\n",
        "import librosa\n",
        "import os\n",
        "\n",
        "# Extract all language audio files (~15 minutes)\n",
        "# Make sure directories match\n",
        "list_dir = os.listdir('gdrive/MyDrive/audio')\n",
        "\n",
        "for dir in list_dir:\n",
        "    with zipfile.ZipFile('gdrive/MyDrive/audio/' + dir, 'r') as zip_ref:\n",
        "        print(\"Extracting \", dir)\n",
        "        zip_ref.extractall('')"
      ],
      "metadata": {
        "id": "DAxmGmO3Y1ut"
      },
      "execution_count": null,
      "outputs": []
    },
    {
      "cell_type": "code",
      "source": [
        "de_wavs = os.listdir('de')\n",
        "el_wavs = os.listdir('el')\n",
        "en_wavs = os.listdir('en')\n",
        "es_wavs = os.listdir('es')\n",
        "fr_wavs = os.listdir('fr')\n",
        "nl_wavs = os.listdir('nl')\n",
        "no_wavs = os.listdir('no')\n",
        "sv_wavs = os.listdir('sv')"
      ],
      "metadata": {
        "id": "fdxJWpgsY1sU"
      },
      "execution_count": null,
      "outputs": []
    },
    {
      "cell_type": "code",
      "source": [
        "def clean_up(language, path, min_dur=10, max_dur=100000):\n",
        "    for i, f_name in enumerate(path):\n",
        "        audio, fs = librosa.load(language +'/' + f_name, sr=None)\n",
        "        duration = librosa.get_duration(audio, sr=fs)\n",
        "        if duration < min_dur or duration > max_dur:\n",
        "            os.remove(language + '/' + f_name)"
      ],
      "metadata": {
        "id": "K2Ggu9QXY1qB"
      },
      "execution_count": null,
      "outputs": []
    },
    {
      "cell_type": "code",
      "source": [
        "clean_up('de', de_wavs)\n",
        "clean_up('el', el_wavs)\n",
        "clean_up('en', en_wavs)\n",
        "clean_up('es', es_wavs)\n",
        "clean_up('fr', fr_wavs)\n",
        "clean_up('nl', nl_wavs)\n",
        "clean_up('no', no_wavs)\n",
        "clean_up('sv', sv_wavs)"
      ],
      "metadata": {
        "id": "y7RaPV5kY1kg"
      },
      "execution_count": null,
      "outputs": []
    },
    {
      "cell_type": "code",
      "source": [
        "de_wavs = os.listdir('de')\n",
        "el_wavs = os.listdir('el')\n",
        "en_wavs = os.listdir('en')\n",
        "es_wavs = os.listdir('es')\n",
        "fr_wavs = os.listdir('fr')\n",
        "nl_wavs = os.listdir('nl')\n",
        "no_wavs = os.listdir('no')\n",
        "sv_wavs = os.listdir('sv')\n",
        "print('After cleanup')\n",
        "print(len(de_wavs))\n",
        "print(len(el_wavs))\n",
        "print(len(en_wavs))\n",
        "print(len(es_wavs))\n",
        "print(len(fr_wavs))\n",
        "print(len(nl_wavs))\n",
        "print(len(no_wavs))\n",
        "print(len(sv_wavs))"
      ],
      "metadata": {
        "id": "A40osLYCZVgY"
      },
      "execution_count": null,
      "outputs": []
    },
    {
      "cell_type": "markdown",
      "source": [
        "# Balance dataset and trim to 10 seconds"
      ],
      "metadata": {
        "id": "vqZq6Nd2jD7-"
      }
    },
    {
      "cell_type": "code",
      "source": [
        "# WARNING this deletes random audio files and was used to balance the datasets\n",
        "# !find directory -maxdepth 1 -type f -name \"*.wav\" -print0 | sort -z -R | head -z -n 500 | xargs -0 rm"
      ],
      "metadata": {
        "id": "YTxnPRjmjcwc"
      },
      "execution_count": null,
      "outputs": []
    },
    {
      "cell_type": "code",
      "source": [
        "!mkdir de_trim\n",
        "!mkdir el_trim\n",
        "!mkdir en_trim\n",
        "!mkdir es_trim\n",
        "!mkdir fr_trim\n",
        "!mkdir nl_trim\n",
        "!mkdir no_trim\n",
        "!mkdir sv_trim"
      ],
      "metadata": {
        "id": "1AlPWqg3sQXS"
      },
      "execution_count": null,
      "outputs": []
    },
    {
      "cell_type": "code",
      "source": [
        "import soundfile as sf\n",
        "\n",
        "def trim(language, path, trim_dur=10):\n",
        "    for f_name in path:\n",
        "        audio, fs = librosa.load(language +'/' + f_name, sr=None)\n",
        "        l = len(audio)\n",
        "        audio = audio[l-int(trim_dur * fs):]  # Keep the last 10 seconds\n",
        "        sf.write(language + '_trim/' + f_name, audio, fs) # Save new file\n"
      ],
      "metadata": {
        "id": "njPrN6OnmVyW"
      },
      "execution_count": null,
      "outputs": []
    },
    {
      "cell_type": "code",
      "source": [
        "trim('de', de_wavs)\n",
        "trim('el', el_wavs)\n",
        "trim('en', en_wavs)\n",
        "trim('es', es_wavs)\n",
        "trim('fr', fr_wavs)\n",
        "trim('nl', nl_wavs)\n",
        "trim('no', no_wavs)\n",
        "trim('sv', sv_wavs)"
      ],
      "metadata": {
        "id": "lFphBIDfjFwi"
      },
      "execution_count": null,
      "outputs": []
    },
    {
      "cell_type": "markdown",
      "source": [
        "# Make pandas dataframe\n"
      ],
      "metadata": {
        "id": "B_9AuG-3ZV9x"
      }
    },
    {
      "cell_type": "code",
      "source": [
        "de_wavs = os.listdir('de_trim')\n",
        "el_wavs = os.listdir('el_trim')\n",
        "en_wavs = os.listdir('en_trim')\n",
        "es_wavs = os.listdir('es_trim')\n",
        "fr_wavs = os.listdir('fr_trim')\n",
        "nl_wavs = os.listdir('nl_trim')\n",
        "no_wavs = os.listdir('no_trim')\n",
        "sv_wavs = os.listdir('sv_trim')"
      ],
      "metadata": {
        "id": "71itAjT1wewt"
      },
      "execution_count": null,
      "outputs": []
    },
    {
      "cell_type": "code",
      "source": [
        "import pandas as pd\n",
        "# Get labels of each audio\n",
        "\n",
        "labels = ['de']*len(de_wavs) + \\\n",
        "         ['el']*len(el_wavs) + \\\n",
        "         ['en']*len(en_wavs) + \\\n",
        "         ['es']*len(es_wavs) + \\\n",
        "         ['fr']*len(fr_wavs) + \\\n",
        "         ['nl']*len(nl_wavs) + \\\n",
        "         ['no']*len(no_wavs) + \\\n",
        "         ['sv']*len(sv_wavs)\n",
        "\n",
        "# Get filename of each audio\n",
        "\n",
        "files = de_wavs + el_wavs + en_wavs + \\\n",
        "        es_wavs + fr_wavs + nl_wavs + \\\n",
        "        no_wavs + sv_wavs\n",
        "\n",
        "data = pd.DataFrame((zip(files, labels)), columns =['labels', 'file'])"
      ],
      "metadata": {
        "id": "f2L9hAr0Z4Kr"
      },
      "execution_count": null,
      "outputs": []
    },
    {
      "cell_type": "code",
      "source": [
        "def wavs_to_list(language, path):\n",
        "    audio_list = []\n",
        "    fs_list = []\n",
        "    for f_name in path:\n",
        "        audio, fs = librosa.load(language +'/' + f_name, sr=None)\n",
        "        audio_list.append(audio)\n",
        "        fs_list.append(fs)\n",
        "\n",
        "    return audio_list, fs_list"
      ],
      "metadata": {
        "id": "odRf3VYavww5"
      },
      "execution_count": null,
      "outputs": []
    },
    {
      "cell_type": "code",
      "source": [
        "de_audio, de_fs = wavs_to_list('de_trim', de_wavs)\n",
        "\n",
        "# el_audio, el_fs = wavs_to_list('el_trim', el_wavs)\n",
        "# en_audio, en_fs = wavs_to_list('en_trim', en_wavs)\n",
        "# es_audio, es_fs = wavs_to_list('es_trim', es_wavs)\n",
        "# fr_audio, fr_fs = wavs_to_list('fr_trim', fr_wavs)\n",
        "# nl_audio, nl_fs = wavs_to_list('nl_trim', nl_wavs)\n",
        "# no_audio, no_fs = wavs_to_list('no_trim', no_wavs)\n",
        "# sv_audio, sv_fs = wavs_to_list('sv_trim', sv_wavs)"
      ],
      "metadata": {
        "id": "hYzzuErjwxiU"
      },
      "execution_count": null,
      "outputs": []
    },
    {
      "cell_type": "code",
      "source": [
        "pwd"
      ],
      "metadata": {
        "id": "GwEsmxSa0v5D"
      },
      "execution_count": null,
      "outputs": []
    },
    {
      "cell_type": "code",
      "source": [
        "!sudo mv de_trim/ gdrive/MyDrive/audio_clean_v2/"
      ],
      "metadata": {
        "id": "RNJJtC6rzkaV"
      },
      "execution_count": null,
      "outputs": []
    },
    {
      "cell_type": "code",
      "source": [
        "!sudo mv el_trim/ gdrive/MyDrive/audio_clean_v2/\n",
        "!sudo mv en_trim/ gdrive/MyDrive/audio_clean_v2/\n",
        "!sudo mv es_trim/ gdrive/MyDrive/audio_clean_v2/\n",
        "!sudo mv fr_trim/ gdrive/MyDrive/audio_clean_v2/\n",
        "!sudo mv nl_trim/ gdrive/MyDrive/audio_clean_v2/\n",
        "!sudo mv no_trim/ gdrive/MyDrive/audio_clean_v2/\n",
        "!sudo mv sv_trim/ gdrive/MyDrive/audio_clean_v2/"
      ],
      "metadata": {
        "id": "RNR-pYR6z3u9"
      },
      "execution_count": null,
      "outputs": []
    }
  ]
}