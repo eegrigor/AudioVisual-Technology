{
  "nbformat": 4,
  "nbformat_minor": 0,
  "metadata": {
    "colab": {
      "provenance": []
    },
    "kernelspec": {
      "name": "python3",
      "display_name": "Python 3"
    },
    "language_info": {
      "name": "python"
    },
    "accelerator": "GPU",
    "gpuClass": "standard"
  },
  "cells": [
    {
      "cell_type": "code",
      "execution_count": null,
      "metadata": {
        "id": "JDFwY5jrCY6N"
      },
      "outputs": [],
      "source": [
        "import pandas as pd\n",
        "import numpy as np\n",
        "from sklearn.model_selection import train_test_split\n",
        "from keras.layers import Dense, Conv2D, MaxPooling2D, Flatten, AveragePooling2D, Dropout\n",
        "from keras.models import Sequential\n",
        "from keras.optimizers import Adam\n",
        "from tensorflow.keras.layers import BatchNormalization\n",
        "from keras.callbacks import EarlyStopping, TensorBoard, ModelCheckpoint\n",
        "import librosa\n",
        "import matplotlib.pyplot as plt\n",
        "from IPython.display import Audio, display\n",
        "import os\n",
        "import cv2 as cv\n",
        "import scipy as sp\n",
        "import tensorflow as tf\n",
        "import pickle"
      ]
    },
    {
      "cell_type": "code",
      "source": [
        "from google.colab import drive\n",
        "drive.mount('/content/drive')"
      ],
      "metadata": {
        "colab": {
          "base_uri": "https://localhost:8080/"
        },
        "id": "pPujFOhaj4wu",
        "outputId": "7c14083c-3ba7-444e-dd39-a4aafacabd04"
      },
      "execution_count": null,
      "outputs": [
        {
          "output_type": "stream",
          "name": "stdout",
          "text": [
            "Mounted at /content/drive\n"
          ]
        }
      ]
    },
    {
      "cell_type": "markdown",
      "source": [
        "# Load filter banks and label them"
      ],
      "metadata": {
        "id": "9YegtnbvOAKK"
      }
    },
    {
      "cell_type": "code",
      "source": [
        "with open('/content/drive/MyDrive/audio/de_npy.pickle', 'rb') as file:\n",
        "    X = np.array(pickle.load(file)[:250*2])\n",
        "    y = np.zeros(X.shape[0])\n",
        "\n",
        "with open('/content/drive/MyDrive/audio/en_npy.pickle', 'rb') as file:\n",
        "    X = np.append(X, pickle.load(file)[:250*2], axis=0)\n",
        "    y = np.append(y, np.full(500, 0))\n",
        "\n",
        "with open('/content/drive/MyDrive/audio/fr_npy.pickle', 'rb') as file:\n",
        "    X = np.append(X, pickle.load(file)[:250*2], axis=0)\n",
        "    y = np.append(y, np.full(500, 0))\n",
        "\n",
        "with open('/content/drive/MyDrive/audio/nl_npy.pickle', 'rb') as file:\n",
        "    X = np.append(X, pickle.load(file)[:250*2], axis=0)\n",
        "    y = np.append(y, np.full(500, 0))\n",
        "\n",
        "with open('/content/drive/MyDrive/audio/el_npy.pickle', 'rb') as file:\n",
        "    X = np.append(X, pickle.load(file)[:500*2], axis=0)\n",
        "    y = np.append(y, np.full(999, 1))\n",
        "\n",
        "with open('/content/drive/MyDrive/audio/es_npy.pickle', 'rb') as file:\n",
        "    X = np.append(X, pickle.load(file)[:500*2], axis=0)\n",
        "    y = np.append(y, np.full(999, 1))\n",
        "\n",
        "with open('/content/drive/MyDrive/audio/no_npy.pickle', 'rb') as file:\n",
        "    X = np.append(X, pickle.load(file)[:500*2], axis=0)\n",
        "    y = np.append(y, np.full(999, 2))\n",
        "\n",
        "with open('/content/drive/MyDrive/audio/sv_npy.pickle', 'rb') as file:\n",
        "    X = np.append(X, pickle.load(file)[:500*2], axis=0)\n",
        "    y = np.append(y, np.full(999, 2))\n",
        "\n",
        "\n",
        "\n",
        "X = np.array(X)\n",
        "y = np.array(y)\n",
        "print(X.shape)\n",
        "print(y.shape)"
      ],
      "metadata": {
        "colab": {
          "base_uri": "https://localhost:8080/"
        },
        "id": "gMl-c3BQCkUP",
        "outputId": "16db5c19-bfe5-4811-cd34-0f1f1e36abf6"
      },
      "execution_count": null,
      "outputs": [
        {
          "output_type": "stream",
          "name": "stdout",
          "text": [
            "(5996, 1000, 40)\n",
            "(5996,)\n"
          ]
        }
      ]
    },
    {
      "cell_type": "markdown",
      "source": [
        "# Train test split and shuffle"
      ],
      "metadata": {
        "id": "7_OIHSrKOF_y"
      }
    },
    {
      "cell_type": "code",
      "source": [
        "from sklearn.utils import shuffle\n",
        "X,y = shuffle(X,y)\n",
        "\n",
        "from sklearn.model_selection import train_test_split\n",
        "X_train, X_test, y_train, y_test = train_test_split(X, y, test_size=0.1, random_state=42)\n",
        "X=[]\n",
        "y=[]"
      ],
      "metadata": {
        "id": "GH2zRgziJMQ6"
      },
      "execution_count": null,
      "outputs": []
    },
    {
      "cell_type": "markdown",
      "source": [
        "# model architecture"
      ],
      "metadata": {
        "id": "AK9R7hFGOJEn"
      }
    },
    {
      "cell_type": "code",
      "source": [
        "model = Sequential()\n",
        "model.add(Conv2D(32,(7, 7), activation='relu', padding='valid', input_shape=(1000,40,1)))\n",
        "model.add(BatchNormalization())\n",
        "model.add(MaxPooling2D(pool_size=(3,3), strides=2, padding='same'))\n",
        "model.add(Conv2D(64,(5,5), activation='relu', padding='same'))\n",
        "model.add(BatchNormalization())\n",
        "model.add(MaxPooling2D(pool_size=(3,3), strides=2, padding='same'))\n",
        "model.add(Conv2D(128,(3,3), activation='relu', padding='same'))\n",
        "model.add(BatchNormalization())\n",
        "model.add(MaxPooling2D(pool_size=(3,3), strides=2, padding='same'))\n",
        "model.add(Conv2D(256,(3,3), activation='relu', padding='same'))\n",
        "model.add(BatchNormalization())\n",
        "model.add(MaxPooling2D(pool_size=(3,3), strides=2, padding='same'))\n",
        "model.add(Conv2D(512,(3,3), activation='relu', padding='same'))\n",
        "model.add(BatchNormalization())\n",
        "model.add(MaxPooling2D(pool_size=(3,3), strides=2, padding='same'))\n",
        "model.add(Flatten())\n",
        "model.add(BatchNormalization())\n",
        "model.add(Dense(256, activation='relu'))\n",
        "model.add(BatchNormalization())\n",
        "model.add(Dropout(0.5))\n",
        "model.add(Dense(3, activation='softmax'))\n",
        "model.summary()"
      ],
      "metadata": {
        "colab": {
          "base_uri": "https://localhost:8080/"
        },
        "id": "MAXTVI5DJRtD",
        "outputId": "ce8b07cd-2057-4f70-b280-ff89a928f0d3"
      },
      "execution_count": null,
      "outputs": [
        {
          "output_type": "stream",
          "name": "stdout",
          "text": [
            "Model: \"sequential\"\n",
            "_________________________________________________________________\n",
            " Layer (type)                Output Shape              Param #   \n",
            "=================================================================\n",
            " conv2d (Conv2D)             (None, 994, 34, 32)       1600      \n",
            "                                                                 \n",
            " batch_normalization (BatchN  (None, 994, 34, 32)      128       \n",
            " ormalization)                                                   \n",
            "                                                                 \n",
            " max_pooling2d (MaxPooling2D  (None, 497, 17, 32)      0         \n",
            " )                                                               \n",
            "                                                                 \n",
            " conv2d_1 (Conv2D)           (None, 497, 17, 64)       51264     \n",
            "                                                                 \n",
            " batch_normalization_1 (Batc  (None, 497, 17, 64)      256       \n",
            " hNormalization)                                                 \n",
            "                                                                 \n",
            " max_pooling2d_1 (MaxPooling  (None, 249, 9, 64)       0         \n",
            " 2D)                                                             \n",
            "                                                                 \n",
            " conv2d_2 (Conv2D)           (None, 249, 9, 128)       73856     \n",
            "                                                                 \n",
            " batch_normalization_2 (Batc  (None, 249, 9, 128)      512       \n",
            " hNormalization)                                                 \n",
            "                                                                 \n",
            " max_pooling2d_2 (MaxPooling  (None, 125, 5, 128)      0         \n",
            " 2D)                                                             \n",
            "                                                                 \n",
            " conv2d_3 (Conv2D)           (None, 125, 5, 256)       295168    \n",
            "                                                                 \n",
            " batch_normalization_3 (Batc  (None, 125, 5, 256)      1024      \n",
            " hNormalization)                                                 \n",
            "                                                                 \n",
            " max_pooling2d_3 (MaxPooling  (None, 63, 3, 256)       0         \n",
            " 2D)                                                             \n",
            "                                                                 \n",
            " conv2d_4 (Conv2D)           (None, 63, 3, 512)        1180160   \n",
            "                                                                 \n",
            " batch_normalization_4 (Batc  (None, 63, 3, 512)       2048      \n",
            " hNormalization)                                                 \n",
            "                                                                 \n",
            " max_pooling2d_4 (MaxPooling  (None, 32, 2, 512)       0         \n",
            " 2D)                                                             \n",
            "                                                                 \n",
            " flatten (Flatten)           (None, 32768)             0         \n",
            "                                                                 \n",
            " batch_normalization_5 (Batc  (None, 32768)            131072    \n",
            " hNormalization)                                                 \n",
            "                                                                 \n",
            " dense (Dense)               (None, 256)               8388864   \n",
            "                                                                 \n",
            " batch_normalization_6 (Batc  (None, 256)              1024      \n",
            " hNormalization)                                                 \n",
            "                                                                 \n",
            " dropout (Dropout)           (None, 256)               0         \n",
            "                                                                 \n",
            " dense_1 (Dense)             (None, 3)                 771       \n",
            "                                                                 \n",
            "=================================================================\n",
            "Total params: 10,127,747\n",
            "Trainable params: 10,059,715\n",
            "Non-trainable params: 68,032\n",
            "_________________________________________________________________\n"
          ]
        }
      ]
    },
    {
      "cell_type": "markdown",
      "source": [
        "# Training process"
      ],
      "metadata": {
        "id": "Tb_Fx-h3OL-0"
      }
    },
    {
      "cell_type": "code",
      "source": [
        "import math\n",
        "from keras.callbacks import LearningRateScheduler\n",
        "adam = Adam()\n",
        "def step_decay(epoch):\n",
        "    # 00158 = 90.4%\n",
        "\tinitial_lrate = 0.00158\n",
        "\tdrop = 0.9\n",
        "\tepochs_drop = 1\n",
        "\tlrate = initial_lrate * math.pow(drop, math.floor((1+epoch)/epochs_drop))\n",
        "\treturn lrate\n",
        "\n",
        "\n",
        "model.compile(loss=tf.keras.losses.SparseCategoricalCrossentropy(from_logits=True),optimizer=adam,metrics=['accuracy'])\n",
        "\n",
        "\n",
        "\n",
        "checkpoint = ModelCheckpoint(\n",
        "                'model.h5',\n",
        "                monitor='val_accuracy',\n",
        "                verbose=0,\n",
        "                save_best_only=True,\n",
        "                mode='max'\n",
        "                )\n",
        "\n",
        "lrate = LearningRateScheduler(step_decay)\n",
        "es = EarlyStopping(monitor='val_loss',mode = 'max', patience=3)\n",
        "model.fit(\n",
        "                X_train,\n",
        "                y_train,\n",
        "                epochs=60,\n",
        "                callbacks=[checkpoint, lrate],\n",
        "                verbose=1,\n",
        "                validation_data=(X_test, y_test),\n",
        "                batch_size=16)"
      ],
      "metadata": {
        "colab": {
          "base_uri": "https://localhost:8080/"
        },
        "id": "COZgsfCCJc9z",
        "outputId": "3f130e71-df75-4f6f-b1c2-8929f8a73e00"
      },
      "execution_count": null,
      "outputs": [
        {
          "output_type": "stream",
          "name": "stdout",
          "text": [
            "Epoch 1/60\n"
          ]
        },
        {
          "output_type": "stream",
          "name": "stderr",
          "text": [
            "/usr/local/lib/python3.8/dist-packages/keras/backend.py:5585: UserWarning: \"`sparse_categorical_crossentropy` received `from_logits=True`, but the `output` argument was produced by a Softmax activation and thus does not represent logits. Was this intended?\n",
            "  output, from_logits = _get_logits(\n"
          ]
        },
        {
          "output_type": "stream",
          "name": "stdout",
          "text": [
            "338/338 [==============================] - 26s 43ms/step - loss: 1.4811 - accuracy: 0.3879 - val_loss: 1.2024 - val_accuracy: 0.4150 - lr: 0.0014\n",
            "Epoch 2/60\n",
            "338/338 [==============================] - 13s 38ms/step - loss: 1.0832 - accuracy: 0.4978 - val_loss: 1.3172 - val_accuracy: 0.3883 - lr: 0.0013\n",
            "Epoch 3/60\n",
            "338/338 [==============================] - 13s 39ms/step - loss: 0.8372 - accuracy: 0.6190 - val_loss: 1.0694 - val_accuracy: 0.5267 - lr: 0.0012\n",
            "Epoch 4/60\n",
            "338/338 [==============================] - 13s 38ms/step - loss: 0.6678 - accuracy: 0.7085 - val_loss: 1.4141 - val_accuracy: 0.4350 - lr: 0.0010\n",
            "Epoch 5/60\n",
            "338/338 [==============================] - 13s 38ms/step - loss: 0.5398 - accuracy: 0.7793 - val_loss: 2.9845 - val_accuracy: 0.3667 - lr: 9.3297e-04\n",
            "Epoch 6/60\n",
            "338/338 [==============================] - 13s 39ms/step - loss: 0.4464 - accuracy: 0.8195 - val_loss: 0.7585 - val_accuracy: 0.6750 - lr: 8.3968e-04\n",
            "Epoch 7/60\n",
            "338/338 [==============================] - 13s 38ms/step - loss: 0.3668 - accuracy: 0.8571 - val_loss: 1.1992 - val_accuracy: 0.6117 - lr: 7.5571e-04\n",
            "Epoch 8/60\n",
            "338/338 [==============================] - 13s 40ms/step - loss: 0.2905 - accuracy: 0.8907 - val_loss: 0.6552 - val_accuracy: 0.7983 - lr: 6.8014e-04\n",
            "Epoch 9/60\n",
            "338/338 [==============================] - 13s 38ms/step - loss: 0.2109 - accuracy: 0.9220 - val_loss: 0.7949 - val_accuracy: 0.7250 - lr: 6.1212e-04\n",
            "Epoch 10/60\n",
            "338/338 [==============================] - 13s 39ms/step - loss: 0.1947 - accuracy: 0.9294 - val_loss: 0.4856 - val_accuracy: 0.8350 - lr: 5.5091e-04\n",
            "Epoch 11/60\n",
            "338/338 [==============================] - 13s 38ms/step - loss: 0.1437 - accuracy: 0.9477 - val_loss: 0.7592 - val_accuracy: 0.7950 - lr: 4.9582e-04\n",
            "Epoch 12/60\n",
            "338/338 [==============================] - 13s 38ms/step - loss: 0.1300 - accuracy: 0.9535 - val_loss: 3.1581 - val_accuracy: 0.7767 - lr: 4.4624e-04\n",
            "Epoch 13/60\n",
            "338/338 [==============================] - 13s 39ms/step - loss: 0.0950 - accuracy: 0.9683 - val_loss: 1.7991 - val_accuracy: 0.8167 - lr: 4.0161e-04\n",
            "Epoch 14/60\n",
            "338/338 [==============================] - 13s 38ms/step - loss: 0.0723 - accuracy: 0.9737 - val_loss: 1.3024 - val_accuracy: 0.7333 - lr: 3.6145e-04\n",
            "Epoch 15/60\n",
            "338/338 [==============================] - 13s 39ms/step - loss: 0.0715 - accuracy: 0.9765 - val_loss: 1.1094 - val_accuracy: 0.7650 - lr: 3.2531e-04\n",
            "Epoch 16/60\n",
            "338/338 [==============================] - 13s 38ms/step - loss: 0.0584 - accuracy: 0.9779 - val_loss: 1.1241 - val_accuracy: 0.8000 - lr: 2.9278e-04\n",
            "Epoch 17/60\n",
            "338/338 [==============================] - 13s 38ms/step - loss: 0.0460 - accuracy: 0.9842 - val_loss: 1.4607 - val_accuracy: 0.8050 - lr: 2.6350e-04\n",
            "Epoch 18/60\n",
            "338/338 [==============================] - 14s 40ms/step - loss: 0.0410 - accuracy: 0.9859 - val_loss: 1.0256 - val_accuracy: 0.8400 - lr: 2.3715e-04\n",
            "Epoch 19/60\n",
            "338/338 [==============================] - 13s 40ms/step - loss: 0.0357 - accuracy: 0.9876 - val_loss: 0.7456 - val_accuracy: 0.8450 - lr: 2.1343e-04\n",
            "Epoch 20/60\n",
            "338/338 [==============================] - 13s 40ms/step - loss: 0.0243 - accuracy: 0.9933 - val_loss: 0.6280 - val_accuracy: 0.8550 - lr: 1.9209e-04\n",
            "Epoch 21/60\n",
            "338/338 [==============================] - 13s 40ms/step - loss: 0.0240 - accuracy: 0.9917 - val_loss: 0.7121 - val_accuracy: 0.8700 - lr: 1.7288e-04\n",
            "Epoch 22/60\n",
            "338/338 [==============================] - 13s 38ms/step - loss: 0.0299 - accuracy: 0.9893 - val_loss: 0.7891 - val_accuracy: 0.8600 - lr: 1.5559e-04\n",
            "Epoch 23/60\n",
            "338/338 [==============================] - 13s 39ms/step - loss: 0.0232 - accuracy: 0.9931 - val_loss: 0.7465 - val_accuracy: 0.8583 - lr: 1.4003e-04\n",
            "Epoch 24/60\n",
            "338/338 [==============================] - 13s 39ms/step - loss: 0.0168 - accuracy: 0.9950 - val_loss: 0.5442 - val_accuracy: 0.8800 - lr: 1.2603e-04\n",
            "Epoch 25/60\n",
            "338/338 [==============================] - 13s 40ms/step - loss: 0.0169 - accuracy: 0.9948 - val_loss: 0.5753 - val_accuracy: 0.8850 - lr: 1.1343e-04\n",
            "Epoch 26/60\n",
            "338/338 [==============================] - 13s 38ms/step - loss: 0.0147 - accuracy: 0.9956 - val_loss: 0.7326 - val_accuracy: 0.8733 - lr: 1.0209e-04\n",
            "Epoch 27/60\n",
            "338/338 [==============================] - 13s 39ms/step - loss: 0.0187 - accuracy: 0.9944 - val_loss: 0.6319 - val_accuracy: 0.8767 - lr: 9.1877e-05\n",
            "Epoch 28/60\n",
            "338/338 [==============================] - 13s 38ms/step - loss: 0.0153 - accuracy: 0.9948 - val_loss: 0.7278 - val_accuracy: 0.8767 - lr: 8.2689e-05\n",
            "Epoch 29/60\n",
            "338/338 [==============================] - 13s 38ms/step - loss: 0.0094 - accuracy: 0.9978 - val_loss: 0.5911 - val_accuracy: 0.8733 - lr: 7.4420e-05\n",
            "Epoch 30/60\n",
            "338/338 [==============================] - 14s 40ms/step - loss: 0.0073 - accuracy: 0.9989 - val_loss: 0.5476 - val_accuracy: 0.8917 - lr: 6.6978e-05\n",
            "Epoch 31/60\n",
            "338/338 [==============================] - 13s 38ms/step - loss: 0.0074 - accuracy: 0.9985 - val_loss: 0.5368 - val_accuracy: 0.8900 - lr: 6.0280e-05\n",
            "Epoch 32/60\n",
            "338/338 [==============================] - 13s 39ms/step - loss: 0.0079 - accuracy: 0.9974 - val_loss: 0.8106 - val_accuracy: 0.8600 - lr: 5.4252e-05\n",
            "Epoch 33/60\n",
            "338/338 [==============================] - 13s 38ms/step - loss: 0.0055 - accuracy: 0.9989 - val_loss: 0.5394 - val_accuracy: 0.8867 - lr: 4.8827e-05\n",
            "Epoch 34/60\n",
            "338/338 [==============================] - 13s 39ms/step - loss: 0.0066 - accuracy: 0.9983 - val_loss: 0.5435 - val_accuracy: 0.8950 - lr: 4.3944e-05\n",
            "Epoch 35/60\n",
            "338/338 [==============================] - 13s 38ms/step - loss: 0.0082 - accuracy: 0.9978 - val_loss: 0.4770 - val_accuracy: 0.8933 - lr: 3.9550e-05\n",
            "Epoch 36/60\n",
            "338/338 [==============================] - 13s 39ms/step - loss: 0.0100 - accuracy: 0.9974 - val_loss: 0.5207 - val_accuracy: 0.8917 - lr: 3.5595e-05\n",
            "Epoch 37/60\n",
            "338/338 [==============================] - 13s 39ms/step - loss: 0.0069 - accuracy: 0.9974 - val_loss: 0.7810 - val_accuracy: 0.9000 - lr: 3.2035e-05\n",
            "Epoch 38/60\n",
            "338/338 [==============================] - 13s 39ms/step - loss: 0.0064 - accuracy: 0.9980 - val_loss: 0.6255 - val_accuracy: 0.9017 - lr: 2.8832e-05\n",
            "Epoch 39/60\n",
            "338/338 [==============================] - 13s 38ms/step - loss: 0.0053 - accuracy: 0.9991 - val_loss: 0.6608 - val_accuracy: 0.8967 - lr: 2.5949e-05\n",
            "Epoch 40/60\n",
            "338/338 [==============================] - 13s 38ms/step - loss: 0.0061 - accuracy: 0.9981 - val_loss: 0.6321 - val_accuracy: 0.9000 - lr: 2.3354e-05\n",
            "Epoch 41/60\n",
            "338/338 [==============================] - 13s 39ms/step - loss: 0.0058 - accuracy: 0.9981 - val_loss: 0.5664 - val_accuracy: 0.9033 - lr: 2.1018e-05\n",
            "Epoch 42/60\n",
            "338/338 [==============================] - 13s 38ms/step - loss: 0.0065 - accuracy: 0.9985 - val_loss: 0.6331 - val_accuracy: 0.8983 - lr: 1.8917e-05\n",
            "Epoch 43/60\n",
            "338/338 [==============================] - 13s 38ms/step - loss: 0.0062 - accuracy: 0.9981 - val_loss: 0.5190 - val_accuracy: 0.8983 - lr: 1.7025e-05\n",
            "Epoch 44/60\n",
            "338/338 [==============================] - 13s 39ms/step - loss: 0.0079 - accuracy: 0.9978 - val_loss: 0.6257 - val_accuracy: 0.8983 - lr: 1.5322e-05\n",
            "Epoch 45/60\n",
            "338/338 [==============================] - 13s 39ms/step - loss: 0.0073 - accuracy: 0.9974 - val_loss: 0.5562 - val_accuracy: 0.8967 - lr: 1.3790e-05\n",
            "Epoch 46/60\n",
            "338/338 [==============================] - 13s 39ms/step - loss: 0.0060 - accuracy: 0.9983 - val_loss: 0.6157 - val_accuracy: 0.8933 - lr: 1.2411e-05\n",
            "Epoch 47/60\n",
            "338/338 [==============================] - 13s 39ms/step - loss: 0.0047 - accuracy: 0.9991 - val_loss: 0.5660 - val_accuracy: 0.8967 - lr: 1.1170e-05\n",
            "Epoch 48/60\n",
            "338/338 [==============================] - 13s 38ms/step - loss: 0.0040 - accuracy: 0.9993 - val_loss: 0.5577 - val_accuracy: 0.8967 - lr: 1.0053e-05\n",
            "Epoch 49/60\n",
            "338/338 [==============================] - 13s 39ms/step - loss: 0.0065 - accuracy: 0.9981 - val_loss: 0.5022 - val_accuracy: 0.9050 - lr: 9.0477e-06\n",
            "Epoch 50/60\n",
            "338/338 [==============================] - 13s 38ms/step - loss: 0.0059 - accuracy: 0.9985 - val_loss: 0.4942 - val_accuracy: 0.8967 - lr: 8.1430e-06\n",
            "Epoch 51/60\n",
            "338/338 [==============================] - 13s 38ms/step - loss: 0.0042 - accuracy: 0.9991 - val_loss: 0.6391 - val_accuracy: 0.8933 - lr: 7.3287e-06\n",
            "Epoch 52/60\n",
            "338/338 [==============================] - 13s 38ms/step - loss: 0.0053 - accuracy: 0.9985 - val_loss: 0.6742 - val_accuracy: 0.8967 - lr: 6.5958e-06\n",
            "Epoch 53/60\n",
            "338/338 [==============================] - 13s 39ms/step - loss: 0.0091 - accuracy: 0.9976 - val_loss: 0.5888 - val_accuracy: 0.8983 - lr: 5.9362e-06\n",
            "Epoch 54/60\n",
            "338/338 [==============================] - 13s 39ms/step - loss: 0.0049 - accuracy: 0.9993 - val_loss: 0.5663 - val_accuracy: 0.8983 - lr: 5.3426e-06\n",
            "Epoch 55/60\n",
            "338/338 [==============================] - 13s 39ms/step - loss: 0.0105 - accuracy: 0.9968 - val_loss: 0.6044 - val_accuracy: 0.8967 - lr: 4.8083e-06\n",
            "Epoch 56/60\n",
            "338/338 [==============================] - 13s 39ms/step - loss: 0.0061 - accuracy: 0.9981 - val_loss: 0.6146 - val_accuracy: 0.8983 - lr: 4.3275e-06\n",
            "Epoch 57/60\n",
            "338/338 [==============================] - 13s 39ms/step - loss: 0.0037 - accuracy: 0.9996 - val_loss: 0.6440 - val_accuracy: 0.8983 - lr: 3.8948e-06\n",
            "Epoch 58/60\n",
            "338/338 [==============================] - 13s 39ms/step - loss: 0.0041 - accuracy: 0.9991 - val_loss: 0.5762 - val_accuracy: 0.9000 - lr: 3.5053e-06\n",
            "Epoch 59/60\n",
            "338/338 [==============================] - 13s 38ms/step - loss: 0.0042 - accuracy: 0.9987 - val_loss: 0.5549 - val_accuracy: 0.9000 - lr: 3.1548e-06\n",
            "Epoch 60/60\n",
            "338/338 [==============================] - 13s 38ms/step - loss: 0.0061 - accuracy: 0.9983 - val_loss: 0.5958 - val_accuracy: 0.8967 - lr: 2.8393e-06\n"
          ]
        },
        {
          "output_type": "execute_result",
          "data": {
            "text/plain": [
              "<keras.callbacks.History at 0x7f22e023e9d0>"
            ]
          },
          "metadata": {},
          "execution_count": 8
        }
      ]
    },
    {
      "cell_type": "code",
      "source": [
        "model.save('/content/drive/MyDrive/audio/model(3_class([de,en,fr,nl] ,[el,es], [no,sv])).h5')"
      ],
      "metadata": {
        "id": "_tvfDA8lMTWP"
      },
      "execution_count": null,
      "outputs": []
    },
    {
      "cell_type": "markdown",
      "source": [
        "# Testing and confusion matrix"
      ],
      "metadata": {
        "id": "g-KZ3zDSOUpy"
      }
    },
    {
      "cell_type": "code",
      "source": [
        "predictions = np.argmax(model.predict(X_test), axis=1)\n"
      ],
      "metadata": {
        "id": "H7x1xEz6Mg1b"
      },
      "execution_count": null,
      "outputs": []
    },
    {
      "cell_type": "code",
      "source": [
        "from sklearn.metrics import confusion_matrix\n",
        "import seaborn as sns\n",
        "import sklearn\n",
        "\n",
        "test_confu_matrix = confusion_matrix(y_test, predictions)\n",
        "fault_type = ['de_en_nl_fr','el_es','no_sv']\n",
        "plt.figure(1,figsize=(18,8))\n",
        "sns.heatmap(test_confu_matrix, annot= True,fmt = \"d\",\n",
        "xticklabels=fault_type, yticklabels=fault_type, cmap = \"Blues\", cbar = False)\n",
        "plt.title('Test Confusion Matrix')\n",
        "plt.xlabel('Predicted')\n",
        "plt.ylabel('True')\n",
        "\n",
        "sklearn.metrics.accuracy_score(predictions, y_test)"
      ],
      "metadata": {
        "colab": {
          "base_uri": "https://localhost:8080/",
          "height": 532
        },
        "id": "6OENChQHMlN0",
        "outputId": "8f09df6a-2f35-492c-f53b-1469468ae862"
      },
      "execution_count": null,
      "outputs": [
        {
          "output_type": "execute_result",
          "data": {
            "text/plain": [
              "0.8966666666666666"
            ]
          },
          "metadata": {},
          "execution_count": 17
        },
        {
          "output_type": "display_data",
          "data": {
            "text/plain": [
              "<Figure size 1296x576 with 1 Axes>"
            ],
            "image/png": "[encoded data removed]"
          },
          "metadata": {
            "needs_background": "light"
          }
        }
      ]
    },
    {
      "cell_type": "code",
      "source": [],
      "metadata": {
        "id": "uy4cCuXUntsX"
      },
      "execution_count": null,
      "outputs": []
    }
  ]
}