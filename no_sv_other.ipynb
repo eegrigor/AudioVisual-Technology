{
  "nbformat": 4,
  "nbformat_minor": 0,
  "metadata": {
    "colab": {
      "provenance": []
    },
    "kernelspec": {
      "name": "python3",
      "display_name": "Python 3"
    },
    "language_info": {
      "name": "python"
    },
    "accelerator": "GPU",
    "gpuClass": "standard"
  },
  "cells": [
    {
      "cell_type": "code",
      "execution_count": null,
      "metadata": {
        "id": "s9CWjTbnSxE1"
      },
      "outputs": [],
      "source": [
        "import pandas as pd\n",
        "import numpy as np\n",
        "from sklearn.model_selection import train_test_split\n",
        "from keras.layers import Dense, Conv2D, MaxPooling2D, Flatten, AveragePooling2D, Dropout\n",
        "from keras.models import Sequential\n",
        "from keras.optimizers import Adam\n",
        "from tensorflow.keras.layers import BatchNormalization\n",
        "from keras.callbacks import EarlyStopping, TensorBoard, ModelCheckpoint\n",
        "import librosa\n",
        "import matplotlib.pyplot as plt\n",
        "from IPython.display import Audio, display\n",
        "import os\n",
        "import cv2 as cv\n",
        "import scipy as sp\n",
        "import tensorflow as tf\n",
        "import pickle\n",
        "from tensorflow import keras"
      ]
    },
    {
      "cell_type": "code",
      "source": [
        "from google.colab import drive\n",
        "drive.mount('/content/drive')"
      ],
      "metadata": {
        "id": "zFUDl_mTGPW0",
        "colab": {
          "base_uri": "https://localhost:8080/"
        },
        "outputId": "230987ad-b9fc-4bcb-b768-0ebd29b9c542"
      },
      "execution_count": null,
      "outputs": [
        {
          "output_type": "stream",
          "name": "stdout",
          "text": [
            "Mounted at /content/drive\n"
          ]
        }
      ]
    },
    {
      "cell_type": "code",
      "source": [
        "with open('/content/drive/MyDrive/audio/de_npy.pickle', 'rb') as file:\n",
        "    X = np.array(pickle.load(file)[:100])\n",
        "    y = np.zeros(100) #other\n",
        "\n",
        "with open('/content/drive/MyDrive/audio/en_npy.pickle', 'rb') as file:\n",
        "    X = np.append(X, pickle.load(file)[:100], axis=0)\n",
        "    y = np.append(y, np.full(100, 0)) #other\n",
        "\n",
        "with open('/content/drive/MyDrive/audio/fr_npy.pickle', 'rb') as file:\n",
        "    X = np.append(X, pickle.load(file)[:100], axis=0)\n",
        "    y = np.append(y, np.full(100, 0)) #other\n",
        "\n",
        "with open('/content/drive/MyDrive/audio/nl_npy.pickle', 'rb') as file:\n",
        "    X = np.append(X, pickle.load(file)[:100], axis=0)\n",
        "    y = np.append(y, np.full(100, 0)) #other\n",
        "\n",
        "with open('/content/drive/MyDrive/audio/el_npy.pickle', 'rb') as file:\n",
        "    X = np.append(X, pickle.load(file)[:100], axis=0)\n",
        "    y = np.append(y, np.full(100, 0)) #other\n",
        "\n",
        "with open('/content/drive/MyDrive/audio/es_npy.pickle', 'rb') as file:\n",
        "    X = np.append(X, pickle.load(file)[:100], axis=0)\n",
        "    y = np.append(y, np.full(100, 0)) #other\n",
        "\n",
        "\n",
        "with open('/content/drive/MyDrive/audio/no_npy.pickle', 'rb') as file:\n",
        "    X = np.append(X, pickle.load(file)[:1000], axis=0)\n",
        "    y = np.append(y, np.full(999, 1)) #1\n",
        "\n",
        "with open('/content/drive/MyDrive/audio/sv_npy.pickle', 'rb') as file:\n",
        "    X = np.append(X, pickle.load(file)[:1000], axis=0)\n",
        "    y = np.append(y, np.full(999, 2)) #2\n",
        "\n",
        "\n",
        "X = np.array(X)\n",
        "y = np.array(y)\n",
        "print(X.shape)\n",
        "print(y.shape)"
      ],
      "metadata": {
        "colab": {
          "base_uri": "https://localhost:8080/"
        },
        "id": "vYWTvbDdSx2j",
        "outputId": "6980f0ac-7127-4f3c-c27b-de4dd6b70183"
      },
      "execution_count": null,
      "outputs": [
        {
          "output_type": "stream",
          "name": "stdout",
          "text": [
            "(2598, 1000, 40)\n",
            "(2598,)\n"
          ]
        }
      ]
    },
    {
      "cell_type": "code",
      "source": [
        "from sklearn.utils import shuffle\n",
        "X,y = shuffle(X,y)\n",
        "\n",
        "from sklearn.model_selection import train_test_split\n",
        "X_train, X_test, y_train, y_test = train_test_split(X, y, test_size=0.1, random_state=42)\n",
        "X=[]\n",
        "y=[]"
      ],
      "metadata": {
        "id": "kl7TADglTfLb"
      },
      "execution_count": null,
      "outputs": []
    },
    {
      "cell_type": "code",
      "source": [
        "model = Sequential()\n",
        "model.add(Conv2D(32,(7, 7), activation='relu', padding='valid', input_shape=(1000,40,1)))\n",
        "model.add(BatchNormalization())\n",
        "model.add(MaxPooling2D(pool_size=(3,3), strides=2, padding='same'))\n",
        "model.add(Conv2D(64,(5,5), activation='relu', padding='same'))\n",
        "model.add(BatchNormalization())\n",
        "model.add(MaxPooling2D(pool_size=(3,3), strides=2, padding='same'))\n",
        "model.add(Conv2D(128,(3,3), activation='relu', padding='same'))\n",
        "model.add(BatchNormalization())\n",
        "model.add(MaxPooling2D(pool_size=(3,3), strides=2, padding='same'))\n",
        "model.add(Conv2D(256,(3,3), activation='relu', padding='same'))\n",
        "model.add(BatchNormalization())\n",
        "model.add(MaxPooling2D(pool_size=(3,3), strides=2, padding='same'))\n",
        "model.add(Conv2D(512,(3,3), activation='relu', padding='same'))\n",
        "model.add(BatchNormalization())\n",
        "model.add(MaxPooling2D(pool_size=(3,3), strides=2, padding='same'))\n",
        "model.add(Flatten())\n",
        "model.add(BatchNormalization())\n",
        "model.add(Dense(256, activation='relu'))\n",
        "model.add(BatchNormalization())\n",
        "model.add(Dropout(0.5))\n",
        "model.add(Dense(3, activation='softmax'))\n",
        "model.summary()"
      ],
      "metadata": {
        "id": "LIg2jKdfTieH"
      },
      "execution_count": null,
      "outputs": []
    },
    {
      "cell_type": "code",
      "source": [
        "import math\n",
        "from keras.callbacks import LearningRateScheduler\n",
        "\n",
        "def step_decay(epoch):\n",
        "    # 00158 = 90.4%\n",
        "\tinitial_lrate = 0.00158\n",
        "\tdrop = 0.9\n",
        "\tepochs_drop = 1\n",
        "\tlrate = initial_lrate * math.pow(drop, math.floor((1+epoch)/epochs_drop))\n",
        "\treturn lrate\n",
        "\n",
        "adam = Adam()\n",
        "model.compile(loss=tf.keras.losses.SparseCategoricalCrossentropy(from_logits=True),optimizer=adam,metrics=['accuracy'])\n",
        "\n",
        "\n",
        "checkpoint = ModelCheckpoint(\n",
        "                'model.h5',\n",
        "                save_best_only=True,\n",
        "                monitor='val_accuracy',\n",
        "                verbose=0,\n",
        "                mode='max'\n",
        "                )\n",
        "\n",
        "lrate = LearningRateScheduler(step_decay)\n",
        "\n",
        "model.fit(\n",
        "                X_train,\n",
        "                y_train,\n",
        "                epochs=60,\n",
        "                callbacks=[checkpoint, lrate],\n",
        "                verbose=1,\n",
        "                validation_data=(X_test, y_test),\n",
        "                batch_size=128)"
      ],
      "metadata": {
        "id": "RbggyHFkTjV1",
        "colab": {
          "base_uri": "https://localhost:8080/"
        },
        "outputId": "086bed17-ab17-4d57-9616-5d87510a6a1c"
      },
      "execution_count": null,
      "outputs": [
        {
          "output_type": "stream",
          "name": "stdout",
          "text": [
            "Epoch 1/60\n"
          ]
        },
        {
          "output_type": "stream",
          "name": "stderr",
          "text": [
            "/usr/local/lib/python3.8/dist-packages/keras/backend.py:5585: UserWarning: \"`sparse_categorical_crossentropy` received `from_logits=True`, but the `output` argument was produced by a Softmax activation and thus does not represent logits. Was this intended?\n",
            "  output, from_logits = _get_logits(\n"
          ]
        },
        {
          "output_type": "stream",
          "name": "stdout",
          "text": [
            "19/19 [==============================] - 9s 415ms/step - loss: 2.1582 - accuracy: 0.3837 - val_loss: 81.3239 - val_accuracy: 0.3192 - lr: 0.0014\n",
            "Epoch 2/60\n",
            "19/19 [==============================] - 5s 286ms/step - loss: 1.3924 - accuracy: 0.4145 - val_loss: 2.1637 - val_accuracy: 0.4231 - lr: 0.0013\n",
            "Epoch 3/60\n",
            "19/19 [==============================] - 5s 260ms/step - loss: 1.2433 - accuracy: 0.4658 - val_loss: 2.1731 - val_accuracy: 0.2692 - lr: 0.0012\n",
            "Epoch 4/60\n",
            "19/19 [==============================] - 5s 256ms/step - loss: 1.1334 - accuracy: 0.5154 - val_loss: 1.4770 - val_accuracy: 0.3000 - lr: 0.0010\n",
            "Epoch 5/60\n",
            "19/19 [==============================] - 5s 269ms/step - loss: 1.1117 - accuracy: 0.5393 - val_loss: 1.5173 - val_accuracy: 0.2462 - lr: 9.3297e-04\n",
            "Epoch 6/60\n",
            "19/19 [==============================] - 5s 281ms/step - loss: 1.0220 - accuracy: 0.6001 - val_loss: 1.1061 - val_accuracy: 0.4462 - lr: 8.3968e-04\n",
            "Epoch 7/60\n",
            "19/19 [==============================] - 5s 268ms/step - loss: 0.9214 - accuracy: 0.6163 - val_loss: 1.1020 - val_accuracy: 0.4115 - lr: 7.5571e-04\n",
            "Epoch 8/60\n",
            "19/19 [==============================] - 5s 264ms/step - loss: 0.8877 - accuracy: 0.6544 - val_loss: 1.3851 - val_accuracy: 0.3500 - lr: 6.8014e-04\n",
            "Epoch 9/60\n",
            "19/19 [==============================] - 5s 269ms/step - loss: 0.8002 - accuracy: 0.6967 - val_loss: 1.0749 - val_accuracy: 0.4385 - lr: 6.1212e-04\n",
            "Epoch 10/60\n",
            "19/19 [==============================] - 5s 272ms/step - loss: 0.6512 - accuracy: 0.7412 - val_loss: 1.5248 - val_accuracy: 0.3192 - lr: 5.5091e-04\n",
            "Epoch 11/60\n",
            "19/19 [==============================] - 5s 271ms/step - loss: 0.6014 - accuracy: 0.7725 - val_loss: 1.2509 - val_accuracy: 0.3308 - lr: 4.9582e-04\n",
            "Epoch 12/60\n",
            "19/19 [==============================] - 5s 273ms/step - loss: 0.5364 - accuracy: 0.8024 - val_loss: 1.2241 - val_accuracy: 0.3346 - lr: 4.4624e-04\n",
            "Epoch 13/60\n",
            "19/19 [==============================] - 5s 276ms/step - loss: 0.3751 - accuracy: 0.8721 - val_loss: 1.6625 - val_accuracy: 0.3231 - lr: 4.0161e-04\n",
            "Epoch 14/60\n",
            "19/19 [==============================] - 5s 276ms/step - loss: 0.2890 - accuracy: 0.9132 - val_loss: 1.5343 - val_accuracy: 0.3308 - lr: 3.6145e-04\n",
            "Epoch 15/60\n",
            "19/19 [==============================] - 5s 277ms/step - loss: 0.2853 - accuracy: 0.9132 - val_loss: 1.4138 - val_accuracy: 0.3385 - lr: 3.2531e-04\n",
            "Epoch 16/60\n",
            "19/19 [==============================] - 5s 266ms/step - loss: 0.2158 - accuracy: 0.9307 - val_loss: 1.6534 - val_accuracy: 0.3654 - lr: 2.9278e-04\n",
            "Epoch 17/60\n",
            "19/19 [==============================] - 5s 274ms/step - loss: 0.1939 - accuracy: 0.9525 - val_loss: 1.5109 - val_accuracy: 0.3846 - lr: 2.6350e-04\n",
            "Epoch 18/60\n",
            "19/19 [==============================] - 5s 274ms/step - loss: 0.1371 - accuracy: 0.9641 - val_loss: 1.5762 - val_accuracy: 0.4346 - lr: 2.3715e-04\n",
            "Epoch 19/60\n",
            "19/19 [==============================] - 6s 294ms/step - loss: 0.1985 - accuracy: 0.9376 - val_loss: 1.6594 - val_accuracy: 0.4500 - lr: 2.1343e-04\n",
            "Epoch 20/60\n",
            "19/19 [==============================] - 6s 293ms/step - loss: 0.1388 - accuracy: 0.9671 - val_loss: 1.1705 - val_accuracy: 0.5846 - lr: 1.9209e-04\n",
            "Epoch 21/60\n",
            "19/19 [==============================] - 5s 272ms/step - loss: 0.1047 - accuracy: 0.9752 - val_loss: 1.2521 - val_accuracy: 0.5308 - lr: 1.7288e-04\n",
            "Epoch 22/60\n",
            "19/19 [==============================] - 5s 286ms/step - loss: 0.0660 - accuracy: 0.9876 - val_loss: 1.1450 - val_accuracy: 0.6154 - lr: 1.5559e-04\n",
            "Epoch 23/60\n",
            "19/19 [==============================] - 5s 263ms/step - loss: 0.0631 - accuracy: 0.9893 - val_loss: 1.3530 - val_accuracy: 0.5269 - lr: 1.4003e-04\n",
            "Epoch 24/60\n",
            "19/19 [==============================] - 5s 273ms/step - loss: 0.0555 - accuracy: 0.9906 - val_loss: 1.4540 - val_accuracy: 0.5346 - lr: 1.2603e-04\n",
            "Epoch 25/60\n",
            "19/19 [==============================] - 5s 265ms/step - loss: 0.0630 - accuracy: 0.9914 - val_loss: 1.3655 - val_accuracy: 0.6077 - lr: 1.1343e-04\n",
            "Epoch 26/60\n",
            "19/19 [==============================] - 5s 284ms/step - loss: 0.0420 - accuracy: 0.9923 - val_loss: 1.2449 - val_accuracy: 0.6538 - lr: 1.0209e-04\n",
            "Epoch 27/60\n",
            "19/19 [==============================] - 5s 273ms/step - loss: 0.0286 - accuracy: 0.9957 - val_loss: 1.2666 - val_accuracy: 0.6462 - lr: 9.1877e-05\n",
            "Epoch 28/60\n",
            "19/19 [==============================] - 5s 264ms/step - loss: 0.0390 - accuracy: 0.9953 - val_loss: 1.1437 - val_accuracy: 0.6538 - lr: 8.2689e-05\n",
            "Epoch 29/60\n",
            "19/19 [==============================] - 6s 293ms/step - loss: 0.0419 - accuracy: 0.9953 - val_loss: 1.2041 - val_accuracy: 0.6654 - lr: 7.4420e-05\n",
            "Epoch 30/60\n",
            "19/19 [==============================] - 5s 288ms/step - loss: 0.0220 - accuracy: 0.9957 - val_loss: 1.1207 - val_accuracy: 0.6962 - lr: 6.6978e-05\n",
            "Epoch 31/60\n",
            "19/19 [==============================] - 5s 286ms/step - loss: 0.0320 - accuracy: 0.9966 - val_loss: 0.9422 - val_accuracy: 0.7231 - lr: 6.0280e-05\n",
            "Epoch 32/60\n",
            "19/19 [==============================] - 5s 266ms/step - loss: 0.0183 - accuracy: 0.9974 - val_loss: 1.0510 - val_accuracy: 0.7192 - lr: 5.4252e-05\n",
            "Epoch 33/60\n",
            "19/19 [==============================] - 6s 294ms/step - loss: 0.0261 - accuracy: 0.9962 - val_loss: 0.8592 - val_accuracy: 0.7577 - lr: 4.8827e-05\n",
            "Epoch 34/60\n",
            "19/19 [==============================] - 5s 288ms/step - loss: 0.0226 - accuracy: 0.9970 - val_loss: 0.9174 - val_accuracy: 0.7615 - lr: 4.3944e-05\n",
            "Epoch 35/60\n",
            "19/19 [==============================] - 5s 265ms/step - loss: 0.0231 - accuracy: 0.9974 - val_loss: 0.8996 - val_accuracy: 0.7500 - lr: 3.9550e-05\n",
            "Epoch 36/60\n",
            "19/19 [==============================] - 5s 273ms/step - loss: 0.0144 - accuracy: 0.9974 - val_loss: 1.0063 - val_accuracy: 0.7423 - lr: 3.5595e-05\n",
            "Epoch 37/60\n",
            "19/19 [==============================] - 5s 285ms/step - loss: 0.0146 - accuracy: 0.9991 - val_loss: 0.8414 - val_accuracy: 0.7769 - lr: 3.2035e-05\n",
            "Epoch 38/60\n",
            "19/19 [==============================] - 5s 273ms/step - loss: 0.0223 - accuracy: 0.9974 - val_loss: 0.8610 - val_accuracy: 0.7731 - lr: 2.8832e-05\n",
            "Epoch 39/60\n",
            "19/19 [==============================] - 5s 274ms/step - loss: 0.0141 - accuracy: 0.9974 - val_loss: 0.8665 - val_accuracy: 0.7577 - lr: 2.5949e-05\n",
            "Epoch 40/60\n",
            "19/19 [==============================] - 5s 284ms/step - loss: 0.0223 - accuracy: 0.9979 - val_loss: 0.8649 - val_accuracy: 0.7846 - lr: 2.3354e-05\n",
            "Epoch 41/60\n",
            "19/19 [==============================] - 5s 273ms/step - loss: 0.0143 - accuracy: 0.9979 - val_loss: 0.8880 - val_accuracy: 0.7615 - lr: 2.1018e-05\n",
            "Epoch 42/60\n",
            "19/19 [==============================] - 5s 272ms/step - loss: 0.0197 - accuracy: 0.9966 - val_loss: 0.9273 - val_accuracy: 0.7577 - lr: 1.8917e-05\n",
            "Epoch 43/60\n",
            "19/19 [==============================] - 5s 265ms/step - loss: 0.0139 - accuracy: 0.9979 - val_loss: 0.9226 - val_accuracy: 0.7577 - lr: 1.7025e-05\n",
            "Epoch 44/60\n",
            "19/19 [==============================] - 5s 265ms/step - loss: 0.0148 - accuracy: 0.9970 - val_loss: 0.8889 - val_accuracy: 0.7692 - lr: 1.5322e-05\n",
            "Epoch 45/60\n",
            "19/19 [==============================] - 5s 272ms/step - loss: 0.0184 - accuracy: 0.9983 - val_loss: 0.9406 - val_accuracy: 0.7423 - lr: 1.3790e-05\n",
            "Epoch 46/60\n",
            "19/19 [==============================] - 5s 265ms/step - loss: 0.0195 - accuracy: 0.9979 - val_loss: 0.9353 - val_accuracy: 0.7346 - lr: 1.2411e-05\n",
            "Epoch 47/60\n",
            "19/19 [==============================] - 5s 264ms/step - loss: 0.0164 - accuracy: 0.9987 - val_loss: 0.9149 - val_accuracy: 0.7308 - lr: 1.1170e-05\n",
            "Epoch 48/60\n",
            "19/19 [==============================] - 5s 264ms/step - loss: 0.0189 - accuracy: 0.9983 - val_loss: 0.9108 - val_accuracy: 0.7308 - lr: 1.0053e-05\n",
            "Epoch 49/60\n",
            "19/19 [==============================] - 5s 264ms/step - loss: 0.0124 - accuracy: 0.9987 - val_loss: 0.9146 - val_accuracy: 0.7462 - lr: 9.0477e-06\n",
            "Epoch 50/60\n",
            "19/19 [==============================] - 5s 263ms/step - loss: 0.0153 - accuracy: 0.9974 - val_loss: 0.9115 - val_accuracy: 0.7577 - lr: 8.1430e-06\n",
            "Epoch 51/60\n",
            "19/19 [==============================] - 5s 267ms/step - loss: 0.0126 - accuracy: 0.9991 - val_loss: 0.9238 - val_accuracy: 0.7538 - lr: 7.3287e-06\n",
            "Epoch 52/60\n",
            "19/19 [==============================] - 5s 264ms/step - loss: 0.0162 - accuracy: 0.9983 - val_loss: 0.9251 - val_accuracy: 0.7615 - lr: 6.5958e-06\n",
            "Epoch 53/60\n",
            "19/19 [==============================] - 5s 273ms/step - loss: 0.0185 - accuracy: 0.9979 - val_loss: 0.9308 - val_accuracy: 0.7577 - lr: 5.9362e-06\n",
            "Epoch 54/60\n",
            "19/19 [==============================] - 5s 266ms/step - loss: 0.0123 - accuracy: 0.9979 - val_loss: 0.9138 - val_accuracy: 0.7500 - lr: 5.3426e-06\n",
            "Epoch 55/60\n",
            "19/19 [==============================] - 5s 272ms/step - loss: 0.0145 - accuracy: 0.9979 - val_loss: 0.9194 - val_accuracy: 0.7462 - lr: 4.8083e-06\n",
            "Epoch 56/60\n",
            "19/19 [==============================] - 5s 267ms/step - loss: 0.0151 - accuracy: 0.9979 - val_loss: 0.9230 - val_accuracy: 0.7462 - lr: 4.3275e-06\n",
            "Epoch 57/60\n",
            "19/19 [==============================] - 5s 264ms/step - loss: 0.0191 - accuracy: 0.9979 - val_loss: 0.9267 - val_accuracy: 0.7462 - lr: 3.8948e-06\n",
            "Epoch 58/60\n",
            "19/19 [==============================] - 5s 272ms/step - loss: 0.0137 - accuracy: 0.9983 - val_loss: 0.9133 - val_accuracy: 0.7538 - lr: 3.5053e-06\n",
            "Epoch 59/60\n",
            "19/19 [==============================] - 5s 267ms/step - loss: 0.0085 - accuracy: 0.9991 - val_loss: 0.9101 - val_accuracy: 0.7538 - lr: 3.1548e-06\n",
            "Epoch 60/60\n",
            "19/19 [==============================] - 5s 264ms/step - loss: 0.0078 - accuracy: 0.9987 - val_loss: 0.9047 - val_accuracy: 0.7615 - lr: 2.8393e-06\n"
          ]
        },
        {
          "output_type": "execute_result",
          "data": {
            "text/plain": [
              "<keras.callbacks.History at 0x7f8a2008efa0>"
            ]
          },
          "metadata": {},
          "execution_count": 16
        }
      ]
    },
    {
      "cell_type": "code",
      "source": [
        "model = keras.models.load_model(\"model.h5\")"
      ],
      "metadata": {
        "id": "ONqzCEONTmJi"
      },
      "execution_count": null,
      "outputs": []
    },
    {
      "cell_type": "code",
      "source": [
        "from sklearn.metrics import accuracy_score\n",
        "predictions = np.argmax(model.predict(X_test), axis=1)\n",
        "print(accuracy_score(y_test, predictions))"
      ],
      "metadata": {
        "colab": {
          "base_uri": "https://localhost:8080/"
        },
        "id": "4Uxl3evWTrR_",
        "outputId": "26125ad5-81ef-4541-f250-d20489405ef8"
      },
      "execution_count": null,
      "outputs": [
        {
          "output_type": "stream",
          "name": "stdout",
          "text": [
            "9/9 [==============================] - 0s 23ms/step\n",
            "0.7846153846153846\n"
          ]
        }
      ]
    },
    {
      "cell_type": "code",
      "source": [
        "from sklearn.metrics import confusion_matrix\n",
        "import seaborn as sns\n",
        "\n",
        "test_confu_matrix = confusion_matrix(y_test, predictions)\n",
        "fault_type = ['other', 'no', 'sv']\n",
        "plt.figure(1,figsize=(18,8))\n",
        "sns.heatmap(test_confu_matrix, annot= True,fmt = \"d\",\n",
        "xticklabels=fault_type, yticklabels=fault_type, cmap = \"Blues\", cbar = False)\n",
        "plt.title('Test Confusion Matrix')\n",
        "plt.xlabel('Predicted')\n",
        "plt.ylabel('True')\n"
      ],
      "metadata": {
        "colab": {
          "base_uri": "https://localhost:8080/",
          "height": 531
        },
        "id": "oSQzrGmqTrxh",
        "outputId": "f2ae69f6-878e-4cfd-d75d-66eef62bd562"
      },
      "execution_count": null,
      "outputs": [
        {
          "output_type": "execute_result",
          "data": {
            "text/plain": [
              "Text(141.0, 0.5, 'True')"
            ]
          },
          "metadata": {},
          "execution_count": 19
        },
        {
          "output_type": "display_data",
          "data": {
            "text/plain": [
              "<Figure size 1296x576 with 1 Axes>"
            ],
            "image/png": "[encoded data removed]"
          },
          "metadata": {
            "needs_background": "light"
          }
        }
      ]
    },
    {
      "cell_type": "code",
      "source": [],
      "metadata": {
        "id": "LKIJH1FXMmGl"
      },
      "execution_count": null,
      "outputs": []
    }
  ]
}