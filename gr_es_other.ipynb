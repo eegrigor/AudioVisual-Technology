{
  "nbformat": 4,
  "nbformat_minor": 0,
  "metadata": {
    "colab": {
      "provenance": []
    },
    "kernelspec": {
      "name": "python3",
      "display_name": "Python 3"
    },
    "language_info": {
      "name": "python"
    },
    "accelerator": "GPU",
    "gpuClass": "standard"
  },
  "cells": [
    {
      "cell_type": "code",
      "execution_count": null,
      "metadata": {
        "id": "s9CWjTbnSxE1"
      },
      "outputs": [],
      "source": [
        "import pandas as pd\n",
        "import numpy as np\n",
        "from sklearn.model_selection import train_test_split\n",
        "from keras.layers import Dense, Conv2D, MaxPooling2D, Flatten, AveragePooling2D, Dropout\n",
        "from keras.models import Sequential\n",
        "from keras.optimizers import Adam\n",
        "from tensorflow.keras.layers import BatchNormalization\n",
        "from keras.callbacks import EarlyStopping, TensorBoard, ModelCheckpoint\n",
        "import librosa\n",
        "import matplotlib.pyplot as plt\n",
        "from IPython.display import Audio, display\n",
        "import os\n",
        "import cv2 as cv\n",
        "import scipy as sp\n",
        "import tensorflow as tf\n",
        "import pickle\n",
        "from tensorflow import keras"
      ]
    },
    {
      "cell_type": "code",
      "source": [
        "from google.colab import drive\n",
        "drive.mount('/content/drive')"
      ],
      "metadata": {
        "id": "zFUDl_mTGPW0",
        "colab": {
          "base_uri": "https://localhost:8080/"
        },
        "outputId": "706b1dea-c408-4fb9-8c03-b2833dc7b96e"
      },
      "execution_count": null,
      "outputs": [
        {
          "output_type": "stream",
          "name": "stdout",
          "text": [
            "Mounted at /content/drive\n"
          ]
        }
      ]
    },
    {
      "cell_type": "code",
      "source": [
        "with open('/content/drive/MyDrive/audio/de_npy.pickle', 'rb') as file:\n",
        "    X = np.array(pickle.load(file)[:100])\n",
        "    y = np.zeros(100) #other\n",
        "\n",
        "with open('/content/drive/MyDrive/audio/en_npy.pickle', 'rb') as file:\n",
        "    X = np.append(X, pickle.load(file)[:100], axis=0)\n",
        "    y = np.append(y, np.full(100, 0)) #other\n",
        "\n",
        "with open('/content/drive/MyDrive/audio/fr_npy.pickle', 'rb') as file:\n",
        "    X = np.append(X, pickle.load(file)[:100], axis=0)\n",
        "    y = np.append(y, np.full(100, 0)) #other\n",
        "\n",
        "with open('/content/drive/MyDrive/audio/nl_npy.pickle', 'rb') as file:\n",
        "    X = np.append(X, pickle.load(file)[:100], axis=0)\n",
        "    y = np.append(y, np.full(100, 0)) #other\n",
        "\n",
        "with open('/content/drive/MyDrive/audio/el_npy.pickle', 'rb') as file:\n",
        "    X = np.append(X, pickle.load(file)[:1000], axis=0)\n",
        "    y = np.append(y, np.full(999, 1)) #1\n",
        "\n",
        "with open('/content/drive/MyDrive/audio/es_npy.pickle', 'rb') as file:\n",
        "    X = np.append(X, pickle.load(file)[:1000], axis=0)\n",
        "    y = np.append(y, np.full(999, 2)) #2\n",
        "\n",
        "\n",
        "with open('/content/drive/MyDrive/audio/no_npy.pickle', 'rb') as file:\n",
        "    X = np.append(X, pickle.load(file)[:100], axis=0)\n",
        "    y = np.append(y, np.full(100, 0)) #other\n",
        "\n",
        "with open('/content/drive/MyDrive/audio/sv_npy.pickle', 'rb') as file:\n",
        "    X = np.append(X, pickle.load(file)[:100], axis=0)\n",
        "    y = np.append(y, np.full(100, 0)) #other\n",
        "\n",
        "\n",
        "X = np.array(X)\n",
        "y = np.array(y)\n",
        "print(X.shape)\n",
        "print(y.shape)"
      ],
      "metadata": {
        "colab": {
          "base_uri": "https://localhost:8080/"
        },
        "id": "vYWTvbDdSx2j",
        "outputId": "07bff800-fe59-4812-9cc9-b2dc51880cca"
      },
      "execution_count": null,
      "outputs": [
        {
          "output_type": "stream",
          "name": "stdout",
          "text": [
            "(2598, 1000, 40)\n",
            "(2598,)\n"
          ]
        }
      ]
    },
    {
      "cell_type": "code",
      "source": [
        "from sklearn.utils import shuffle\n",
        "X,y = shuffle(X,y)\n",
        "\n",
        "from sklearn.model_selection import train_test_split\n",
        "X_train, X_test, y_train, y_test = train_test_split(X, y, test_size=0.1, random_state=42)\n",
        "X=[]\n",
        "y=[]"
      ],
      "metadata": {
        "id": "kl7TADglTfLb"
      },
      "execution_count": null,
      "outputs": []
    },
    {
      "cell_type": "code",
      "source": [
        "model = Sequential()\n",
        "model.add(Conv2D(32,(7, 7), activation='relu', padding='valid', input_shape=(1000,40,1)))\n",
        "model.add(BatchNormalization())\n",
        "model.add(MaxPooling2D(pool_size=(3,3), strides=2, padding='same'))\n",
        "model.add(Conv2D(64,(5,5), activation='relu', padding='same'))\n",
        "model.add(BatchNormalization())\n",
        "model.add(MaxPooling2D(pool_size=(3,3), strides=2, padding='same'))\n",
        "model.add(Conv2D(128,(3,3), activation='relu', padding='same'))\n",
        "model.add(BatchNormalization())\n",
        "model.add(MaxPooling2D(pool_size=(3,3), strides=2, padding='same'))\n",
        "model.add(Conv2D(256,(3,3), activation='relu', padding='same'))\n",
        "model.add(BatchNormalization())\n",
        "model.add(MaxPooling2D(pool_size=(3,3), strides=2, padding='same'))\n",
        "model.add(Conv2D(512,(3,3), activation='relu', padding='same'))\n",
        "model.add(BatchNormalization())\n",
        "model.add(MaxPooling2D(pool_size=(3,3), strides=2, padding='same'))\n",
        "model.add(Flatten())\n",
        "model.add(BatchNormalization())\n",
        "model.add(Dense(256, activation='relu'))\n",
        "model.add(BatchNormalization())\n",
        "model.add(Dropout(0.5))\n",
        "model.add(Dense(3, activation='softmax'))\n",
        "model.summary()"
      ],
      "metadata": {
        "id": "LIg2jKdfTieH"
      },
      "execution_count": null,
      "outputs": []
    },
    {
      "cell_type": "code",
      "source": [
        "import math\n",
        "from keras.callbacks import LearningRateScheduler\n",
        "\n",
        "def step_decay(epoch):\n",
        "\n",
        "\tinitial_lrate = 0.00158\n",
        "\tdrop = 0.9\n",
        "\tepochs_drop = 1\n",
        "\tlrate = initial_lrate * math.pow(drop, math.floor((1+epoch)/epochs_drop))\n",
        "\treturn lrate\n",
        "\n",
        "adam = Adam()\n",
        "model.compile(loss=tf.keras.losses.SparseCategoricalCrossentropy(from_logits=True),optimizer=adam,metrics=['accuracy'])\n",
        "\n",
        "\n",
        "checkpoint = ModelCheckpoint(\n",
        "                'model.h5',\n",
        "                save_best_only=True,\n",
        "                monitor='val_accuracy',\n",
        "                verbose=0,\n",
        "                mode='max'\n",
        "                )\n",
        "\n",
        "lrate = LearningRateScheduler(step_decay)\n",
        "\n",
        "model.fit(\n",
        "                X_train,\n",
        "                y_train,\n",
        "                epochs=60,\n",
        "                callbacks=[checkpoint, lrate],\n",
        "                verbose=1,\n",
        "                validation_data=(X_test, y_test),\n",
        "                batch_size=128)"
      ],
      "metadata": {
        "id": "RbggyHFkTjV1",
        "colab": {
          "base_uri": "https://localhost:8080/"
        },
        "outputId": "c35bbb8f-39ea-404e-adea-e2fb0790181a"
      },
      "execution_count": null,
      "outputs": [
        {
          "output_type": "stream",
          "name": "stdout",
          "text": [
            "Epoch 1/60\n"
          ]
        },
        {
          "output_type": "stream",
          "name": "stderr",
          "text": [
            "/usr/local/lib/python3.8/dist-packages/keras/backend.py:5585: UserWarning: \"`sparse_categorical_crossentropy` received `from_logits=True`, but the `output` argument was produced by a Softmax activation and thus does not represent logits. Was this intended?\n",
            "  output, from_logits = _get_logits(\n"
          ]
        },
        {
          "output_type": "stream",
          "name": "stdout",
          "text": [
            "19/19 [==============================] - 22s 455ms/step - loss: 2.3351 - accuracy: 0.3618 - val_loss: 75.2570 - val_accuracy: 0.4346 - lr: 0.0014\n",
            "Epoch 2/60\n",
            "19/19 [==============================] - 5s 271ms/step - loss: 1.3412 - accuracy: 0.4115 - val_loss: 11.7151 - val_accuracy: 0.2231 - lr: 0.0013\n",
            "Epoch 3/60\n",
            "19/19 [==============================] - 5s 272ms/step - loss: 1.1995 - accuracy: 0.4850 - val_loss: 3.4442 - val_accuracy: 0.2231 - lr: 0.0012\n",
            "Epoch 4/60\n",
            "19/19 [==============================] - 5s 276ms/step - loss: 1.1073 - accuracy: 0.5312 - val_loss: 2.5723 - val_accuracy: 0.2885 - lr: 0.0010\n",
            "Epoch 5/60\n",
            "19/19 [==============================] - 5s 277ms/step - loss: 1.0582 - accuracy: 0.5783 - val_loss: 2.2420 - val_accuracy: 0.2654 - lr: 9.3297e-04\n",
            "Epoch 6/60\n",
            "19/19 [==============================] - 5s 280ms/step - loss: 0.9286 - accuracy: 0.6270 - val_loss: 1.1202 - val_accuracy: 0.3731 - lr: 8.3968e-04\n",
            "Epoch 7/60\n",
            "19/19 [==============================] - 5s 283ms/step - loss: 0.9012 - accuracy: 0.6334 - val_loss: 2.2498 - val_accuracy: 0.3423 - lr: 7.5571e-04\n",
            "Epoch 8/60\n",
            "19/19 [==============================] - 6s 319ms/step - loss: 0.7311 - accuracy: 0.7083 - val_loss: 1.1752 - val_accuracy: 0.5154 - lr: 6.8014e-04\n",
            "Epoch 9/60\n",
            "19/19 [==============================] - 5s 280ms/step - loss: 0.5445 - accuracy: 0.7973 - val_loss: 1.3997 - val_accuracy: 0.4654 - lr: 6.1212e-04\n",
            "Epoch 10/60\n",
            "19/19 [==============================] - 5s 278ms/step - loss: 0.4875 - accuracy: 0.8229 - val_loss: 1.8882 - val_accuracy: 0.3885 - lr: 5.5091e-04\n",
            "Epoch 11/60\n",
            "19/19 [==============================] - 5s 277ms/step - loss: 0.4534 - accuracy: 0.8362 - val_loss: 2.2880 - val_accuracy: 0.4231 - lr: 4.9582e-04\n",
            "Epoch 12/60\n",
            "19/19 [==============================] - 6s 296ms/step - loss: 0.3344 - accuracy: 0.8785 - val_loss: 1.5013 - val_accuracy: 0.5654 - lr: 4.4624e-04\n",
            "Epoch 13/60\n",
            "19/19 [==============================] - 5s 280ms/step - loss: 0.2789 - accuracy: 0.9016 - val_loss: 1.4016 - val_accuracy: 0.5577 - lr: 4.0161e-04\n",
            "Epoch 14/60\n",
            "19/19 [==============================] - 5s 270ms/step - loss: 0.2290 - accuracy: 0.9303 - val_loss: 1.2711 - val_accuracy: 0.5615 - lr: 3.6145e-04\n",
            "Epoch 15/60\n",
            "19/19 [==============================] - 6s 305ms/step - loss: 0.1457 - accuracy: 0.9559 - val_loss: 1.5237 - val_accuracy: 0.5808 - lr: 3.2531e-04\n",
            "Epoch 16/60\n",
            "19/19 [==============================] - 5s 276ms/step - loss: 0.0993 - accuracy: 0.9713 - val_loss: 1.9655 - val_accuracy: 0.5038 - lr: 2.9278e-04\n",
            "Epoch 17/60\n",
            "19/19 [==============================] - 5s 275ms/step - loss: 0.0713 - accuracy: 0.9808 - val_loss: 1.6086 - val_accuracy: 0.5808 - lr: 2.6350e-04\n",
            "Epoch 18/60\n",
            "19/19 [==============================] - 5s 268ms/step - loss: 0.0672 - accuracy: 0.9808 - val_loss: 1.2116 - val_accuracy: 0.5808 - lr: 2.3715e-04\n",
            "Epoch 19/60\n",
            "19/19 [==============================] - 5s 267ms/step - loss: 0.1097 - accuracy: 0.9683 - val_loss: 1.6210 - val_accuracy: 0.5692 - lr: 2.1343e-04\n",
            "Epoch 20/60\n",
            "19/19 [==============================] - 6s 307ms/step - loss: 0.0528 - accuracy: 0.9855 - val_loss: 1.3182 - val_accuracy: 0.6192 - lr: 1.9209e-04\n",
            "Epoch 21/60\n",
            "19/19 [==============================] - 5s 278ms/step - loss: 0.0364 - accuracy: 0.9944 - val_loss: 1.4230 - val_accuracy: 0.5962 - lr: 1.7288e-04\n",
            "Epoch 22/60\n",
            "19/19 [==============================] - 5s 279ms/step - loss: 0.0271 - accuracy: 0.9974 - val_loss: 1.4806 - val_accuracy: 0.6000 - lr: 1.5559e-04\n",
            "Epoch 23/60\n",
            "19/19 [==============================] - 6s 296ms/step - loss: 0.0164 - accuracy: 0.9979 - val_loss: 1.1826 - val_accuracy: 0.6423 - lr: 1.4003e-04\n",
            "Epoch 24/60\n",
            "19/19 [==============================] - 5s 272ms/step - loss: 0.0174 - accuracy: 0.9953 - val_loss: 1.3386 - val_accuracy: 0.6269 - lr: 1.2603e-04\n",
            "Epoch 25/60\n",
            "19/19 [==============================] - 6s 297ms/step - loss: 0.0192 - accuracy: 0.9970 - val_loss: 1.1481 - val_accuracy: 0.6692 - lr: 1.1343e-04\n",
            "Epoch 26/60\n",
            "19/19 [==============================] - 6s 292ms/step - loss: 0.0124 - accuracy: 0.9983 - val_loss: 0.9544 - val_accuracy: 0.6846 - lr: 1.0209e-04\n",
            "Epoch 27/60\n",
            "19/19 [==============================] - 6s 302ms/step - loss: 0.0124 - accuracy: 0.9983 - val_loss: 0.6702 - val_accuracy: 0.7500 - lr: 9.1877e-05\n",
            "Epoch 28/60\n",
            "19/19 [==============================] - 6s 298ms/step - loss: 0.0109 - accuracy: 0.9996 - val_loss: 0.6739 - val_accuracy: 0.7538 - lr: 8.2689e-05\n",
            "Epoch 29/60\n",
            "19/19 [==============================] - 5s 280ms/step - loss: 0.0110 - accuracy: 0.9983 - val_loss: 0.6213 - val_accuracy: 0.7538 - lr: 7.4420e-05\n",
            "Epoch 30/60\n",
            "19/19 [==============================] - 6s 291ms/step - loss: 0.0108 - accuracy: 0.9991 - val_loss: 0.6146 - val_accuracy: 0.7846 - lr: 6.6978e-05\n",
            "Epoch 31/60\n",
            "19/19 [==============================] - 6s 292ms/step - loss: 0.0120 - accuracy: 0.9979 - val_loss: 0.5778 - val_accuracy: 0.7962 - lr: 6.0280e-05\n",
            "Epoch 32/60\n",
            "19/19 [==============================] - 6s 302ms/step - loss: 0.0077 - accuracy: 1.0000 - val_loss: 0.5168 - val_accuracy: 0.8192 - lr: 5.4252e-05\n",
            "Epoch 33/60\n",
            "19/19 [==============================] - 6s 302ms/step - loss: 0.0066 - accuracy: 1.0000 - val_loss: 0.5202 - val_accuracy: 0.8231 - lr: 4.8827e-05\n",
            "Epoch 34/60\n",
            "19/19 [==============================] - 5s 279ms/step - loss: 0.0063 - accuracy: 0.9996 - val_loss: 0.5253 - val_accuracy: 0.8192 - lr: 4.3944e-05\n",
            "Epoch 35/60\n",
            "19/19 [==============================] - 6s 293ms/step - loss: 0.0064 - accuracy: 1.0000 - val_loss: 0.5357 - val_accuracy: 0.8269 - lr: 3.9550e-05\n",
            "Epoch 36/60\n",
            "19/19 [==============================] - 5s 273ms/step - loss: 0.0057 - accuracy: 1.0000 - val_loss: 0.5529 - val_accuracy: 0.8154 - lr: 3.5595e-05\n",
            "Epoch 37/60\n",
            "19/19 [==============================] - 5s 271ms/step - loss: 0.0059 - accuracy: 0.9996 - val_loss: 0.5475 - val_accuracy: 0.8192 - lr: 3.2035e-05\n",
            "Epoch 38/60\n",
            "19/19 [==============================] - 5s 279ms/step - loss: 0.0057 - accuracy: 1.0000 - val_loss: 0.5521 - val_accuracy: 0.8192 - lr: 2.8832e-05\n",
            "Epoch 39/60\n",
            "19/19 [==============================] - 5s 273ms/step - loss: 0.0043 - accuracy: 1.0000 - val_loss: 0.5618 - val_accuracy: 0.8192 - lr: 2.5949e-05\n",
            "Epoch 40/60\n",
            "19/19 [==============================] - 5s 280ms/step - loss: 0.0046 - accuracy: 1.0000 - val_loss: 0.5756 - val_accuracy: 0.8192 - lr: 2.3354e-05\n",
            "Epoch 41/60\n",
            "19/19 [==============================] - 5s 281ms/step - loss: 0.0059 - accuracy: 0.9996 - val_loss: 0.5789 - val_accuracy: 0.8154 - lr: 2.1018e-05\n",
            "Epoch 42/60\n",
            "19/19 [==============================] - 5s 280ms/step - loss: 0.0052 - accuracy: 0.9996 - val_loss: 0.5807 - val_accuracy: 0.8192 - lr: 1.8917e-05\n",
            "Epoch 43/60\n",
            "19/19 [==============================] - 5s 281ms/step - loss: 0.0052 - accuracy: 0.9996 - val_loss: 0.5903 - val_accuracy: 0.8192 - lr: 1.7025e-05\n",
            "Epoch 44/60\n",
            "19/19 [==============================] - 5s 279ms/step - loss: 0.0049 - accuracy: 1.0000 - val_loss: 0.6600 - val_accuracy: 0.8115 - lr: 1.5322e-05\n",
            "Epoch 45/60\n",
            "19/19 [==============================] - 5s 270ms/step - loss: 0.0051 - accuracy: 1.0000 - val_loss: 0.6269 - val_accuracy: 0.8192 - lr: 1.3790e-05\n",
            "Epoch 46/60\n",
            "19/19 [==============================] - 5s 281ms/step - loss: 0.0058 - accuracy: 0.9996 - val_loss: 0.6100 - val_accuracy: 0.8115 - lr: 1.2411e-05\n",
            "Epoch 47/60\n",
            "19/19 [==============================] - 5s 269ms/step - loss: 0.0051 - accuracy: 0.9996 - val_loss: 0.6043 - val_accuracy: 0.8115 - lr: 1.1170e-05\n",
            "Epoch 48/60\n",
            "19/19 [==============================] - 5s 273ms/step - loss: 0.0046 - accuracy: 1.0000 - val_loss: 0.6073 - val_accuracy: 0.8192 - lr: 1.0053e-05\n",
            "Epoch 49/60\n",
            "19/19 [==============================] - 5s 277ms/step - loss: 0.0064 - accuracy: 0.9987 - val_loss: 0.6022 - val_accuracy: 0.8154 - lr: 9.0477e-06\n",
            "Epoch 50/60\n",
            "19/19 [==============================] - 5s 279ms/step - loss: 0.0050 - accuracy: 1.0000 - val_loss: 0.6079 - val_accuracy: 0.8269 - lr: 8.1430e-06\n",
            "Epoch 51/60\n",
            "19/19 [==============================] - 5s 271ms/step - loss: 0.0050 - accuracy: 0.9996 - val_loss: 0.6055 - val_accuracy: 0.8192 - lr: 7.3287e-06\n",
            "Epoch 52/60\n",
            "19/19 [==============================] - 5s 270ms/step - loss: 0.0048 - accuracy: 1.0000 - val_loss: 0.6059 - val_accuracy: 0.8192 - lr: 6.5958e-06\n",
            "Epoch 53/60\n",
            "19/19 [==============================] - 5s 280ms/step - loss: 0.0048 - accuracy: 1.0000 - val_loss: 0.6093 - val_accuracy: 0.8115 - lr: 5.9362e-06\n",
            "Epoch 54/60\n",
            "19/19 [==============================] - 5s 269ms/step - loss: 0.0050 - accuracy: 0.9996 - val_loss: 0.6121 - val_accuracy: 0.8154 - lr: 5.3426e-06\n",
            "Epoch 55/60\n",
            "19/19 [==============================] - 5s 279ms/step - loss: 0.0040 - accuracy: 1.0000 - val_loss: 0.6244 - val_accuracy: 0.8077 - lr: 4.8083e-06\n",
            "Epoch 56/60\n",
            "19/19 [==============================] - 5s 279ms/step - loss: 0.0059 - accuracy: 0.9991 - val_loss: 0.6229 - val_accuracy: 0.8154 - lr: 4.3275e-06\n",
            "Epoch 57/60\n",
            "19/19 [==============================] - 5s 269ms/step - loss: 0.0042 - accuracy: 0.9996 - val_loss: 0.6224 - val_accuracy: 0.8115 - lr: 3.8948e-06\n",
            "Epoch 58/60\n",
            "19/19 [==============================] - 5s 280ms/step - loss: 0.0047 - accuracy: 0.9996 - val_loss: 0.6211 - val_accuracy: 0.8115 - lr: 3.5053e-06\n",
            "Epoch 59/60\n",
            "19/19 [==============================] - 5s 269ms/step - loss: 0.0045 - accuracy: 1.0000 - val_loss: 0.6221 - val_accuracy: 0.8115 - lr: 3.1548e-06\n",
            "Epoch 60/60\n",
            "19/19 [==============================] - 5s 271ms/step - loss: 0.0042 - accuracy: 1.0000 - val_loss: 0.6224 - val_accuracy: 0.8115 - lr: 2.8393e-06\n"
          ]
        },
        {
          "output_type": "execute_result",
          "data": {
            "text/plain": [
              "<keras.callbacks.History at 0x7f99260d7d00>"
            ]
          },
          "metadata": {},
          "execution_count": 6
        }
      ]
    },
    {
      "cell_type": "code",
      "source": [
        "model = keras.models.load_model(\"model.h5\")"
      ],
      "metadata": {
        "id": "ONqzCEONTmJi"
      },
      "execution_count": null,
      "outputs": []
    },
    {
      "cell_type": "code",
      "source": [
        "from sklearn.metrics import accuracy_score\n",
        "predictions = np.argmax(model.predict(X_test), axis=1)\n",
        "print(accuracy_score(y_test, predictions))"
      ],
      "metadata": {
        "colab": {
          "base_uri": "https://localhost:8080/"
        },
        "id": "4Uxl3evWTrR_",
        "outputId": "f6ca632e-fdc5-4b2c-e88d-ed3690f6f449"
      },
      "execution_count": null,
      "outputs": [
        {
          "output_type": "stream",
          "name": "stdout",
          "text": [
            "9/9 [==============================] - 1s 17ms/step\n",
            "0.8269230769230769\n"
          ]
        }
      ]
    },
    {
      "cell_type": "code",
      "source": [
        "from sklearn.metrics import confusion_matrix\n",
        "import seaborn as sns\n",
        "\n",
        "test_confu_matrix = confusion_matrix(y_test, predictions)\n",
        "fault_type = ['other', 'gr', 'es']\n",
        "plt.figure(1,figsize=(18,8))\n",
        "sns.heatmap(test_confu_matrix, annot= True,fmt = \"d\",\n",
        "xticklabels=fault_type, yticklabels=fault_type, cmap = \"Blues\", cbar = False)\n",
        "plt.title('Test Confusion Matrix')\n",
        "plt.xlabel('Predicted')\n",
        "plt.ylabel('True')\n"
      ],
      "metadata": {
        "colab": {
          "base_uri": "https://localhost:8080/",
          "height": 531
        },
        "id": "oSQzrGmqTrxh",
        "outputId": "85305ce0-eb25-4360-9c89-cf46c049d790"
      },
      "execution_count": null,
      "outputs": [
        {
          "output_type": "execute_result",
          "data": {
            "text/plain": [
              "Text(141.0, 0.5, 'True')"
            ]
          },
          "metadata": {},
          "execution_count": 11
        },
        {
          "output_type": "display_data",
          "data": {
            "text/plain": [
              "<Figure size 1296x576 with 1 Axes>"
            ],
            "image/png": "[encoded data removed]"
          },
          "metadata": {
            "needs_background": "light"
          }
        }
      ]
    },
    {
      "cell_type": "code",
      "source": [],
      "metadata": {
        "id": "LKIJH1FXMmGl"
      },
      "execution_count": null,
      "outputs": []
    }
  ]
}